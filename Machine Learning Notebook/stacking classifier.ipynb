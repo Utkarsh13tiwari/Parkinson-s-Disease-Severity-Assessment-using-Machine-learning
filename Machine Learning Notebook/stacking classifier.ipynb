{
 "cells": [
  {
   "cell_type": "code",
   "execution_count": 26,
   "id": "45529c9b",
   "metadata": {},
   "outputs": [],
   "source": [
    "import numpy as np\n",
    "import pandas as pd\n",
    "import matplotlib.pyplot as plt\n",
    "import seaborn as sns\n",
    "from sklearn.preprocessing import StandardScaler, LabelEncoder\n",
    "from sklearn.metrics import ConfusionMatrixDisplay\n",
    "from sklearn.metrics import precision_recall_fscore_support as score\n",
    "from sklearn.metrics import precision_score,recall_score, f1_score, accuracy_score,confusion_matrix,multilabel_confusion_matrix\n",
    "import lime\n",
    "from lime import lime_tabular\n"
   ]
  },
  {
   "cell_type": "code",
   "execution_count": 27,
   "id": "e942e1e0",
   "metadata": {},
   "outputs": [],
   "source": [
    "df1 = pd.read_csv(\"MDS-UPDRS_Part_III-Group-A.csv\")\n",
    "df2 = pd.read_csv(\"MDS-UPDRS_Part_III-Group-B.csv\")\n",
    "df = pd.concat([df1, df2], axis=0)"
   ]
  },
  {
   "cell_type": "code",
   "execution_count": 28,
   "id": "5483f2a9",
   "metadata": {},
   "outputs": [
    {
     "data": {
      "text/plain": [
       "2.0      10404\n",
       "0.0       7861\n",
       "1.0       3394\n",
       "3.0        967\n",
       "101.0      263\n",
       "4.0        173\n",
       "5.0         60\n",
       "Name: NHY, dtype: int64"
      ]
     },
     "execution_count": 28,
     "metadata": {},
     "output_type": "execute_result"
    }
   ],
   "source": [
    "df['NHY'].value_counts()"
   ]
  },
  {
   "cell_type": "code",
   "execution_count": 29,
   "id": "595d51f5",
   "metadata": {},
   "outputs": [],
   "source": [
    "df_normalised = df.replace(101.,0.)"
   ]
  },
  {
   "cell_type": "code",
   "execution_count": 30,
   "id": "6207259e",
   "metadata": {},
   "outputs": [
    {
     "data": {
      "text/html": [
       "<div>\n",
       "<style scoped>\n",
       "    .dataframe tbody tr th:only-of-type {\n",
       "        vertical-align: middle;\n",
       "    }\n",
       "\n",
       "    .dataframe tbody tr th {\n",
       "        vertical-align: top;\n",
       "    }\n",
       "\n",
       "    .dataframe thead th {\n",
       "        text-align: right;\n",
       "    }\n",
       "</style>\n",
       "<table border=\"1\" class=\"dataframe\">\n",
       "  <thead>\n",
       "    <tr style=\"text-align: right;\">\n",
       "      <th></th>\n",
       "      <th>Unnamed: 0</th>\n",
       "      <th>REC_ID</th>\n",
       "      <th>PATNO</th>\n",
       "      <th>EVENT_ID</th>\n",
       "      <th>PAG_NAME</th>\n",
       "      <th>INFODT</th>\n",
       "      <th>PDTRTMNT</th>\n",
       "      <th>PDSTATE</th>\n",
       "      <th>HRPOSTMED</th>\n",
       "      <th>PDMEDYN</th>\n",
       "      <th>...</th>\n",
       "      <th>NP3RTALU</th>\n",
       "      <th>NP3RTARL</th>\n",
       "      <th>NP3RTALL</th>\n",
       "      <th>NP3RTALJ</th>\n",
       "      <th>NP3RTCON</th>\n",
       "      <th>NP3TOT</th>\n",
       "      <th>DYSKPRES</th>\n",
       "      <th>NHY</th>\n",
       "      <th>ORIG_ENTRY</th>\n",
       "      <th>LAST_UPDATE</th>\n",
       "    </tr>\n",
       "  </thead>\n",
       "  <tbody>\n",
       "    <tr>\n",
       "      <th>0</th>\n",
       "      <td>17595</td>\n",
       "      <td>671077401</td>\n",
       "      <td>57869</td>\n",
       "      <td>V04</td>\n",
       "      <td>NUPDRS3</td>\n",
       "      <td>12/2017</td>\n",
       "      <td>1.0</td>\n",
       "      <td>OFF</td>\n",
       "      <td>14.5000</td>\n",
       "      <td>1.0</td>\n",
       "      <td>...</td>\n",
       "      <td>1.0</td>\n",
       "      <td>2.0</td>\n",
       "      <td>3.0</td>\n",
       "      <td>0.0</td>\n",
       "      <td>0.0</td>\n",
       "      <td>54.0</td>\n",
       "      <td>0.0</td>\n",
       "      <td>2.0</td>\n",
       "      <td>01/2018</td>\n",
       "      <td>2018-01-11 15:46:02.0</td>\n",
       "    </tr>\n",
       "    <tr>\n",
       "      <th>1</th>\n",
       "      <td>21551</td>\n",
       "      <td>IANT214603</td>\n",
       "      <td>111429</td>\n",
       "      <td>BL</td>\n",
       "      <td>NUPDRDOSE3</td>\n",
       "      <td>11/2022</td>\n",
       "      <td>0.0</td>\n",
       "      <td>NaN</td>\n",
       "      <td>NaN</td>\n",
       "      <td>0.0</td>\n",
       "      <td>...</td>\n",
       "      <td>0.0</td>\n",
       "      <td>0.0</td>\n",
       "      <td>0.0</td>\n",
       "      <td>0.0</td>\n",
       "      <td>0.0</td>\n",
       "      <td>0.0</td>\n",
       "      <td>0.0</td>\n",
       "      <td>0.0</td>\n",
       "      <td>12/2022</td>\n",
       "      <td>2022-12-20 00:00:00.0</td>\n",
       "    </tr>\n",
       "    <tr>\n",
       "      <th>2</th>\n",
       "      <td>23302</td>\n",
       "      <td>IANT310558</td>\n",
       "      <td>182340</td>\n",
       "      <td>BL</td>\n",
       "      <td>NUPDRDOSE3</td>\n",
       "      <td>02/2023</td>\n",
       "      <td>0.0</td>\n",
       "      <td>NaN</td>\n",
       "      <td>NaN</td>\n",
       "      <td>0.0</td>\n",
       "      <td>...</td>\n",
       "      <td>1.0</td>\n",
       "      <td>0.0</td>\n",
       "      <td>0.0</td>\n",
       "      <td>0.0</td>\n",
       "      <td>1.0</td>\n",
       "      <td>16.0</td>\n",
       "      <td>0.0</td>\n",
       "      <td>1.0</td>\n",
       "      <td>08/2023</td>\n",
       "      <td>2023-08-09 00:00:00.0</td>\n",
       "    </tr>\n",
       "    <tr>\n",
       "      <th>3</th>\n",
       "      <td>20789</td>\n",
       "      <td>IAON164829</td>\n",
       "      <td>101018</td>\n",
       "      <td>V02</td>\n",
       "      <td>NUPDRDOSE3</td>\n",
       "      <td>11/2021</td>\n",
       "      <td>1.0</td>\n",
       "      <td>ON</td>\n",
       "      <td>3.0833</td>\n",
       "      <td>1.0</td>\n",
       "      <td>...</td>\n",
       "      <td>0.0</td>\n",
       "      <td>0.0</td>\n",
       "      <td>0.0</td>\n",
       "      <td>0.0</td>\n",
       "      <td>0.0</td>\n",
       "      <td>15.0</td>\n",
       "      <td>0.0</td>\n",
       "      <td>2.0</td>\n",
       "      <td>11/2021</td>\n",
       "      <td>2021-11-16 00:00:00.0</td>\n",
       "    </tr>\n",
       "    <tr>\n",
       "      <th>4</th>\n",
       "      <td>16024</td>\n",
       "      <td>IANT163527</td>\n",
       "      <td>52587</td>\n",
       "      <td>V12</td>\n",
       "      <td>NUPDRDOSE3</td>\n",
       "      <td>04/2021</td>\n",
       "      <td>0.0</td>\n",
       "      <td>NaN</td>\n",
       "      <td>NaN</td>\n",
       "      <td>0.0</td>\n",
       "      <td>...</td>\n",
       "      <td>0.0</td>\n",
       "      <td>0.0</td>\n",
       "      <td>0.0</td>\n",
       "      <td>0.0</td>\n",
       "      <td>0.0</td>\n",
       "      <td>0.0</td>\n",
       "      <td>0.0</td>\n",
       "      <td>0.0</td>\n",
       "      <td>05/2021</td>\n",
       "      <td>2021-05-04 00:00:00.0</td>\n",
       "    </tr>\n",
       "    <tr>\n",
       "      <th>...</th>\n",
       "      <td>...</td>\n",
       "      <td>...</td>\n",
       "      <td>...</td>\n",
       "      <td>...</td>\n",
       "      <td>...</td>\n",
       "      <td>...</td>\n",
       "      <td>...</td>\n",
       "      <td>...</td>\n",
       "      <td>...</td>\n",
       "      <td>...</td>\n",
       "      <td>...</td>\n",
       "      <td>...</td>\n",
       "      <td>...</td>\n",
       "      <td>...</td>\n",
       "      <td>...</td>\n",
       "      <td>...</td>\n",
       "      <td>...</td>\n",
       "      <td>...</td>\n",
       "      <td>...</td>\n",
       "      <td>...</td>\n",
       "      <td>...</td>\n",
       "    </tr>\n",
       "    <tr>\n",
       "      <th>11960</th>\n",
       "      <td>17893</td>\n",
       "      <td>IAOF164017</td>\n",
       "      <td>58510</td>\n",
       "      <td>V08</td>\n",
       "      <td>NUPDRDOSE3</td>\n",
       "      <td>03/2021</td>\n",
       "      <td>1.0</td>\n",
       "      <td>OFF</td>\n",
       "      <td>NaN</td>\n",
       "      <td>1.0</td>\n",
       "      <td>...</td>\n",
       "      <td>NaN</td>\n",
       "      <td>NaN</td>\n",
       "      <td>NaN</td>\n",
       "      <td>NaN</td>\n",
       "      <td>NaN</td>\n",
       "      <td>NaN</td>\n",
       "      <td>NaN</td>\n",
       "      <td>NaN</td>\n",
       "      <td>03/2021</td>\n",
       "      <td>2021-03-23 00:00:00.0</td>\n",
       "    </tr>\n",
       "    <tr>\n",
       "      <th>11961</th>\n",
       "      <td>720</td>\n",
       "      <td>532644601</td>\n",
       "      <td>3069</td>\n",
       "      <td>V10</td>\n",
       "      <td>NUPDRS3</td>\n",
       "      <td>08/2015</td>\n",
       "      <td>NaN</td>\n",
       "      <td>NaN</td>\n",
       "      <td>NaN</td>\n",
       "      <td>NaN</td>\n",
       "      <td>...</td>\n",
       "      <td>0.0</td>\n",
       "      <td>0.0</td>\n",
       "      <td>0.0</td>\n",
       "      <td>0.0</td>\n",
       "      <td>0.0</td>\n",
       "      <td>1.0</td>\n",
       "      <td>0.0</td>\n",
       "      <td>0.0</td>\n",
       "      <td>08/2015</td>\n",
       "      <td>2020-06-24 12:34:50.0</td>\n",
       "    </tr>\n",
       "    <tr>\n",
       "      <th>11962</th>\n",
       "      <td>22646</td>\n",
       "      <td>IANT165575</td>\n",
       "      <td>153027</td>\n",
       "      <td>BL</td>\n",
       "      <td>NUPDRDOSE3</td>\n",
       "      <td>08/2022</td>\n",
       "      <td>0.0</td>\n",
       "      <td>NaN</td>\n",
       "      <td>NaN</td>\n",
       "      <td>NaN</td>\n",
       "      <td>...</td>\n",
       "      <td>0.0</td>\n",
       "      <td>0.0</td>\n",
       "      <td>0.0</td>\n",
       "      <td>0.0</td>\n",
       "      <td>0.0</td>\n",
       "      <td>18.0</td>\n",
       "      <td>0.0</td>\n",
       "      <td>1.0</td>\n",
       "      <td>09/2022</td>\n",
       "      <td>2022-09-01 00:00:00.0</td>\n",
       "    </tr>\n",
       "    <tr>\n",
       "      <th>11963</th>\n",
       "      <td>18553</td>\n",
       "      <td>478056701</td>\n",
       "      <td>60043</td>\n",
       "      <td>V02</td>\n",
       "      <td>NUPDRS3</td>\n",
       "      <td>11/2014</td>\n",
       "      <td>0.0</td>\n",
       "      <td>NaN</td>\n",
       "      <td>NaN</td>\n",
       "      <td>0.0</td>\n",
       "      <td>...</td>\n",
       "      <td>0.0</td>\n",
       "      <td>0.0</td>\n",
       "      <td>0.0</td>\n",
       "      <td>0.0</td>\n",
       "      <td>0.0</td>\n",
       "      <td>0.0</td>\n",
       "      <td>0.0</td>\n",
       "      <td>0.0</td>\n",
       "      <td>11/2014</td>\n",
       "      <td>2020-01-24 15:33:29.0</td>\n",
       "    </tr>\n",
       "    <tr>\n",
       "      <th>11964</th>\n",
       "      <td>3195</td>\n",
       "      <td>IANT162050</td>\n",
       "      <td>3318</td>\n",
       "      <td>R16</td>\n",
       "      <td>NUPDRDOSE3</td>\n",
       "      <td>02/2022</td>\n",
       "      <td>0.0</td>\n",
       "      <td>NaN</td>\n",
       "      <td>NaN</td>\n",
       "      <td>NaN</td>\n",
       "      <td>...</td>\n",
       "      <td>0.0</td>\n",
       "      <td>0.0</td>\n",
       "      <td>0.0</td>\n",
       "      <td>0.0</td>\n",
       "      <td>0.0</td>\n",
       "      <td>NaN</td>\n",
       "      <td>0.0</td>\n",
       "      <td>2.0</td>\n",
       "      <td>02/2022</td>\n",
       "      <td>2022-02-09 00:00:00.0</td>\n",
       "    </tr>\n",
       "  </tbody>\n",
       "</table>\n",
       "<p>23929 rows × 53 columns</p>\n",
       "</div>"
      ],
      "text/plain": [
       "       Unnamed: 0      REC_ID   PATNO EVENT_ID    PAG_NAME   INFODT  PDTRTMNT  \\\n",
       "0           17595   671077401   57869      V04     NUPDRS3  12/2017       1.0   \n",
       "1           21551  IANT214603  111429       BL  NUPDRDOSE3  11/2022       0.0   \n",
       "2           23302  IANT310558  182340       BL  NUPDRDOSE3  02/2023       0.0   \n",
       "3           20789  IAON164829  101018      V02  NUPDRDOSE3  11/2021       1.0   \n",
       "4           16024  IANT163527   52587      V12  NUPDRDOSE3  04/2021       0.0   \n",
       "...           ...         ...     ...      ...         ...      ...       ...   \n",
       "11960       17893  IAOF164017   58510      V08  NUPDRDOSE3  03/2021       1.0   \n",
       "11961         720   532644601    3069      V10     NUPDRS3  08/2015       NaN   \n",
       "11962       22646  IANT165575  153027       BL  NUPDRDOSE3  08/2022       0.0   \n",
       "11963       18553   478056701   60043      V02     NUPDRS3  11/2014       0.0   \n",
       "11964        3195  IANT162050    3318      R16  NUPDRDOSE3  02/2022       0.0   \n",
       "\n",
       "      PDSTATE  HRPOSTMED  PDMEDYN  ...  NP3RTALU NP3RTARL NP3RTALL NP3RTALJ  \\\n",
       "0         OFF    14.5000      1.0  ...       1.0      2.0      3.0      0.0   \n",
       "1         NaN        NaN      0.0  ...       0.0      0.0      0.0      0.0   \n",
       "2         NaN        NaN      0.0  ...       1.0      0.0      0.0      0.0   \n",
       "3          ON     3.0833      1.0  ...       0.0      0.0      0.0      0.0   \n",
       "4         NaN        NaN      0.0  ...       0.0      0.0      0.0      0.0   \n",
       "...       ...        ...      ...  ...       ...      ...      ...      ...   \n",
       "11960     OFF        NaN      1.0  ...       NaN      NaN      NaN      NaN   \n",
       "11961     NaN        NaN      NaN  ...       0.0      0.0      0.0      0.0   \n",
       "11962     NaN        NaN      NaN  ...       0.0      0.0      0.0      0.0   \n",
       "11963     NaN        NaN      0.0  ...       0.0      0.0      0.0      0.0   \n",
       "11964     NaN        NaN      NaN  ...       0.0      0.0      0.0      0.0   \n",
       "\n",
       "      NP3RTCON  NP3TOT  DYSKPRES  NHY  ORIG_ENTRY            LAST_UPDATE  \n",
       "0          0.0    54.0       0.0  2.0     01/2018  2018-01-11 15:46:02.0  \n",
       "1          0.0     0.0       0.0  0.0     12/2022  2022-12-20 00:00:00.0  \n",
       "2          1.0    16.0       0.0  1.0     08/2023  2023-08-09 00:00:00.0  \n",
       "3          0.0    15.0       0.0  2.0     11/2021  2021-11-16 00:00:00.0  \n",
       "4          0.0     0.0       0.0  0.0     05/2021  2021-05-04 00:00:00.0  \n",
       "...        ...     ...       ...  ...         ...                    ...  \n",
       "11960      NaN     NaN       NaN  NaN     03/2021  2021-03-23 00:00:00.0  \n",
       "11961      0.0     1.0       0.0  0.0     08/2015  2020-06-24 12:34:50.0  \n",
       "11962      0.0    18.0       0.0  1.0     09/2022  2022-09-01 00:00:00.0  \n",
       "11963      0.0     0.0       0.0  0.0     11/2014  2020-01-24 15:33:29.0  \n",
       "11964      0.0     NaN       0.0  2.0     02/2022  2022-02-09 00:00:00.0  \n",
       "\n",
       "[23929 rows x 53 columns]"
      ]
     },
     "execution_count": 30,
     "metadata": {},
     "output_type": "execute_result"
    }
   ],
   "source": [
    "threshold = 70  # Set the threshold for missing values percentage\n",
    "\n",
    "# Calculate the percentage of missing values for each column\n",
    "null_values = df_normalised.isna().mean() * 100\n",
    "\n",
    "# Identify columns with missing values greater than the threshold\n",
    "columns_to_drop = null_values[null_values > threshold].index\n",
    "\n",
    "# Drop the identified columns\n",
    "df_normalised = df_normalised.drop(columns=columns_to_drop)\n",
    "\n",
    "# Display the DataFrame after dropping columns\n",
    "df_normalised"
   ]
  },
  {
   "cell_type": "code",
   "execution_count": 31,
   "id": "bfce9c6e",
   "metadata": {},
   "outputs": [],
   "source": [
    "# Identify numerical columns with missing values\n",
    "numerical_columns_with_missing = df_normalised.select_dtypes(include='number').columns[df_normalised.select_dtypes(include='number').isnull().any()]\n",
    "\n",
    "# Replace missing values with median for each numerical column\n",
    "for column in numerical_columns_with_missing:\n",
    "    median_value = df_normalised[column].median()  #Try using mode to see the change \n",
    "    df_normalised[column].fillna(median_value, inplace=True)\n",
    "\n",
    "    \n",
    "# Filling the null values with median"
   ]
  },
  {
   "cell_type": "code",
   "execution_count": 32,
   "id": "d454d66c",
   "metadata": {},
   "outputs": [],
   "source": [
    "df_new = df_normalised.drop(['REC_ID','HRPOSTMED','PDMEDTM','EVENT_ID','Unnamed: 0','PDMEDDT','EXAMDT','PDSTATE','EXAMTM','INFODT', 'PDTRTMNT','ORIG_ENTRY', 'LAST_UPDATE'],axis = 1)"
   ]
  },
  {
   "cell_type": "code",
   "execution_count": 33,
   "id": "f4ea1d06",
   "metadata": {},
   "outputs": [],
   "source": [
    "df_new = pd.get_dummies(df_new)"
   ]
  },
  {
   "cell_type": "code",
   "execution_count": 34,
   "id": "731f872a",
   "metadata": {},
   "outputs": [
    {
     "data": {
      "text/plain": [
       "Index(['PATNO', 'PDMEDYN', 'DBSYN', 'NP3SPCH', 'NP3FACXP', 'NP3RIGN',\n",
       "       'NP3RIGRU', 'NP3RIGLU', 'NP3RIGRL', 'NP3RIGLL', 'NP3FTAPR', 'NP3FTAPL',\n",
       "       'NP3HMOVR', 'NP3HMOVL', 'NP3PRSPR', 'NP3PRSPL', 'NP3TTAPR', 'NP3TTAPL',\n",
       "       'NP3LGAGR', 'NP3LGAGL', 'NP3RISNG', 'NP3GAIT', 'NP3FRZGT', 'NP3PSTBL',\n",
       "       'NP3POSTR', 'NP3BRADY', 'NP3PTRMR', 'NP3PTRML', 'NP3KTRMR', 'NP3KTRML',\n",
       "       'NP3RTARU', 'NP3RTALU', 'NP3RTARL', 'NP3RTALL', 'NP3RTALJ', 'NP3RTCON',\n",
       "       'NP3TOT', 'DYSKPRES', 'NHY', 'PAG_NAME_NUPDR3OF', 'PAG_NAME_NUPDR3ON',\n",
       "       'PAG_NAME_NUPDRDOSE3', 'PAG_NAME_NUPDRS3', 'PAG_NAME_NUPDRS3A'],\n",
       "      dtype='object')"
      ]
     },
     "execution_count": 34,
     "metadata": {},
     "output_type": "execute_result"
    }
   ],
   "source": [
    "df_new.columns"
   ]
  },
  {
   "cell_type": "code",
   "execution_count": 35,
   "id": "fdc1026a",
   "metadata": {},
   "outputs": [
    {
     "data": {
      "text/plain": [
       "(23929, 44)"
      ]
     },
     "execution_count": 35,
     "metadata": {},
     "output_type": "execute_result"
    }
   ],
   "source": [
    "df_new.shape"
   ]
  },
  {
   "cell_type": "code",
   "execution_count": 36,
   "id": "cd0d59c7",
   "metadata": {},
   "outputs": [],
   "source": [
    "from sklearn.model_selection import train_test_split\n",
    "train, test = train_test_split(df_new, test_size=0.3, random_state=0)"
   ]
  },
  {
   "cell_type": "code",
   "execution_count": 37,
   "id": "cab7f6e4",
   "metadata": {},
   "outputs": [],
   "source": [
    "x_train=train.drop('NHY',axis=1)\n",
    "y_train=train['NHY']\n",
    "\n",
    "x_test=test.drop('NHY',axis=1)\n",
    "y_test=test['NHY']"
   ]
  },
  {
   "cell_type": "code",
   "execution_count": 38,
   "id": "d83aa3f3",
   "metadata": {},
   "outputs": [
    {
     "data": {
      "text/plain": [
       "2.0    7790\n",
       "0.0    5698\n",
       "1.0    2396\n",
       "3.0     702\n",
       "4.0     124\n",
       "5.0      40\n",
       "Name: NHY, dtype: int64"
      ]
     },
     "execution_count": 38,
     "metadata": {},
     "output_type": "execute_result"
    }
   ],
   "source": [
    "y_train.value_counts() # Highly Imbalanced"
   ]
  },
  {
   "cell_type": "code",
   "execution_count": 39,
   "id": "fdcb5cc1",
   "metadata": {},
   "outputs": [],
   "source": [
    "from sklearn.datasets import make_classification"
   ]
  },
  {
   "cell_type": "code",
   "execution_count": 40,
   "id": "5345f282",
   "metadata": {},
   "outputs": [],
   "source": [
    "#pip install catboost"
   ]
  },
  {
   "cell_type": "code",
   "execution_count": 41,
   "id": "2be0518f",
   "metadata": {},
   "outputs": [],
   "source": [
    "from sklearn.ensemble import AdaBoostClassifier\n",
    "from sklearn.ensemble import BaggingClassifier\n",
    "from sklearn.naive_bayes import BernoulliNB\n",
    "from sklearn.calibration import CalibratedClassifierCV\n",
    "from sklearn.naive_bayes import CategoricalNB\n",
    "from sklearn.multioutput import ClassifierChain\n",
    "from sklearn.naive_bayes import ComplementNB\n",
    "from sklearn.tree import DecisionTreeClassifier\n",
    "from sklearn.dummy import DummyClassifier\n",
    "from sklearn.tree import ExtraTreeClassifier\n",
    "from sklearn.ensemble import ExtraTreesClassifier\n",
    "from sklearn.naive_bayes import GaussianNB\n",
    "from sklearn.gaussian_process import GaussianProcessClassifier\n",
    "from sklearn.ensemble import GradientBoostingClassifier\n",
    "from sklearn.experimental import enable_hist_gradient_boosting\n",
    "from sklearn.ensemble import HistGradientBoostingClassifier\n",
    "from sklearn.neighbors import KNeighborsClassifier\n",
    "from sklearn.semi_supervised import LabelPropagation\n",
    "from sklearn.semi_supervised import LabelSpreading\n",
    "from sklearn.discriminant_analysis import LinearDiscriminantAnalysis\n",
    "from sklearn.svm import LinearSVC\n",
    "from sklearn.linear_model import LogisticRegression\n",
    "from sklearn.linear_model import LogisticRegressionCV\n",
    "from sklearn.neural_network import MLPClassifier\n",
    "from sklearn.multioutput import MultiOutputClassifier\n",
    "from sklearn.naive_bayes import MultinomialNB\n",
    "from sklearn.neighbors import NearestCentroid\n",
    "from sklearn.svm import NuSVC\n",
    "from sklearn.multiclass import OneVsOneClassifier\n",
    "from sklearn.multiclass import OneVsRestClassifier\n",
    "from sklearn.multiclass import OutputCodeClassifier\n",
    "from sklearn.linear_model import PassiveAggressiveClassifier\n",
    "from sklearn.linear_model import Perceptron\n",
    "from sklearn.discriminant_analysis import QuadraticDiscriminantAnalysis\n",
    "from sklearn.neighbors import RadiusNeighborsClassifier\n",
    "from sklearn.ensemble import RandomForestClassifier\n",
    "from sklearn.linear_model import RidgeClassifier\n",
    "from sklearn.linear_model import RidgeClassifierCV\n",
    "from sklearn.linear_model import SGDClassifier\n",
    "from sklearn.svm import SVC\n",
    "from sklearn.ensemble import StackingClassifier\n",
    "#from sklearn.ensemble import VotingClassifier\n",
    "\n",
    "from xgboost import XGBClassifier\n",
    "#from catboost import CatBoostClassifier"
   ]
  },
  {
   "cell_type": "code",
   "execution_count": 52,
   "id": "aeb8a770",
   "metadata": {},
   "outputs": [],
   "source": [
    "estimators = []\n",
    "#estimators.append(('AdaBoostClassifier', AdaBoostClassifier(random_state=13) ))\n",
    "#estimators.append(('Bagging Classifier', BaggingClassifier(random_state=13) ))\n",
    "#estimators.append(('Bernoulli NB', BernoulliNB() ))\n",
    "#estimators.append(('Decision Tree Classifier', DecisionTreeClassifier(random_state=13) ))\n",
    "#estimators.append(('Dummy Classifier', DummyClassifier(random_state=13) ))\n",
    "#estimators.append(('Extra Tree Classifier', ExtraTreeClassifier(random_state=13) ))\n",
    "#estimators.append(('Extra Trees Classifier', ExtraTreesClassifier(random_state=13) ))\n",
    "#estimators.append(('Gaussian NB', GaussianNB() ))\n",
    "#estimators.append(('Gaussian Process Classifier', GaussianProcessClassifier(random_state=13) ))\n",
    "estimators.append(('Gradient Boosting Classifier', GradientBoostingClassifier(random_state=13) ))\n",
    "#estimators.append(('Hist Gradient Boosting Classifier', HistGradientBoostingClassifier(random_state=13) ))\n",
    "#estimators.append(('KNN', KNeighborsClassifier() ))\n",
    "#estimators.append(('Label Propagation', LabelPropagation() ))\n",
    "#estimators.append(('Label Spreading', LabelSpreading() ))\n",
    "#estimators.append(('LogisticRegression', LogisticRegression(max_iter=1000, random_state=13)))\n",
    "#estimators.append(('Logistic Regression CV', LogisticRegressionCV(max_iter=1000, random_state=13) ))\n",
    "#estimators.append(('MLPClassifier', MLPClassifier(max_iter=2000,random_state=13) ))\n",
    "#estimators.append(('Nearest Centroid', NearestCentroid() ))\n",
    "#estimators.append(('Passive Aggressive Classifier', PassiveAggressiveClassifier(random_state=13) ))\n",
    "#estimators.append(('Perceptron', Perceptron(random_state=13) ))\n",
    "#estimators.append(('RadiusNeighborsClassifier', RadiusNeighborsClassifier(radius=3) ))\n",
    "#estimators.append(('RandomForest', RandomForestClassifier(max_depth= 10, min_samples_leaf= 1, min_samples_split= 3, n_estimators= 170, random_state=13) ))\n",
    "#estimators.append(('Ridge Classifier', RidgeClassifier(random_state=13) ))\n",
    "#estimators.append(('Ridge Classifier CV', RidgeClassifierCV() ))\n",
    "#estimators.append(('SGDClassifier', SGDClassifier(random_state=13) ))\n",
    "#estimators.append(('SVC', SVC(random_state=13)))\n",
    "estimators.append(('XGB', XGBClassifier(random_state=13) ))\n",
    "#estimators.append(('CatBoost', CatBoostClassifier(logging_level='Silent', random_state=13) ))"
   ]
  },
  {
   "cell_type": "code",
   "execution_count": 53,
   "id": "6b53789e",
   "metadata": {},
   "outputs": [],
   "source": [
    "XGB = GradientBoostingClassifier(random_state=13)"
   ]
  },
  {
   "cell_type": "code",
   "execution_count": 54,
   "id": "e213e94c",
   "metadata": {},
   "outputs": [
    {
     "name": "stderr",
     "output_type": "stream",
     "text": [
      "C:\\Users\\utkar\\anaconda3\\envs\\tfgpu\\lib\\site-packages\\xgboost\\sklearn.py:1224: UserWarning: The use of label encoder in XGBClassifier is deprecated and will be removed in a future release. To remove this warning, do the following: 1) Pass option use_label_encoder=False when constructing XGBClassifier object; and 2) Encode your labels (y) as integers starting with 0, i.e. 0, 1, 2, ..., [num_class - 1].\n",
      "  warnings.warn(label_encoder_deprecation_msg, UserWarning)\n"
     ]
    },
    {
     "name": "stdout",
     "output_type": "stream",
     "text": [
      "[22:21:14] WARNING: C:/Users/Administrator/workspace/xgboost-win64_release_1.5.1/src/learner.cc:1115: Starting in XGBoost 1.3.0, the default evaluation metric used with the objective 'multi:softprob' was changed from 'merror' to 'mlogloss'. Explicitly set eval_metric if you'd like to restore the old behavior.\n"
     ]
    },
    {
     "name": "stderr",
     "output_type": "stream",
     "text": [
      "C:\\Users\\utkar\\anaconda3\\envs\\tfgpu\\lib\\site-packages\\xgboost\\sklearn.py:1224: UserWarning: The use of label encoder in XGBClassifier is deprecated and will be removed in a future release. To remove this warning, do the following: 1) Pass option use_label_encoder=False when constructing XGBClassifier object; and 2) Encode your labels (y) as integers starting with 0, i.e. 0, 1, 2, ..., [num_class - 1].\n",
      "  warnings.warn(label_encoder_deprecation_msg, UserWarning)\n"
     ]
    },
    {
     "name": "stdout",
     "output_type": "stream",
     "text": [
      "[22:22:37] WARNING: C:/Users/Administrator/workspace/xgboost-win64_release_1.5.1/src/learner.cc:1115: Starting in XGBoost 1.3.0, the default evaluation metric used with the objective 'multi:softprob' was changed from 'merror' to 'mlogloss'. Explicitly set eval_metric if you'd like to restore the old behavior.\n"
     ]
    },
    {
     "name": "stderr",
     "output_type": "stream",
     "text": [
      "C:\\Users\\utkar\\anaconda3\\envs\\tfgpu\\lib\\site-packages\\xgboost\\sklearn.py:1224: UserWarning: The use of label encoder in XGBClassifier is deprecated and will be removed in a future release. To remove this warning, do the following: 1) Pass option use_label_encoder=False when constructing XGBClassifier object; and 2) Encode your labels (y) as integers starting with 0, i.e. 0, 1, 2, ..., [num_class - 1].\n",
      "  warnings.warn(label_encoder_deprecation_msg, UserWarning)\n"
     ]
    },
    {
     "name": "stdout",
     "output_type": "stream",
     "text": [
      "[22:22:39] WARNING: C:/Users/Administrator/workspace/xgboost-win64_release_1.5.1/src/learner.cc:1115: Starting in XGBoost 1.3.0, the default evaluation metric used with the objective 'multi:softprob' was changed from 'merror' to 'mlogloss'. Explicitly set eval_metric if you'd like to restore the old behavior.\n"
     ]
    },
    {
     "name": "stderr",
     "output_type": "stream",
     "text": [
      "C:\\Users\\utkar\\anaconda3\\envs\\tfgpu\\lib\\site-packages\\xgboost\\sklearn.py:1224: UserWarning: The use of label encoder in XGBClassifier is deprecated and will be removed in a future release. To remove this warning, do the following: 1) Pass option use_label_encoder=False when constructing XGBClassifier object; and 2) Encode your labels (y) as integers starting with 0, i.e. 0, 1, 2, ..., [num_class - 1].\n",
      "  warnings.warn(label_encoder_deprecation_msg, UserWarning)\n"
     ]
    },
    {
     "name": "stdout",
     "output_type": "stream",
     "text": [
      "[22:22:42] WARNING: C:/Users/Administrator/workspace/xgboost-win64_release_1.5.1/src/learner.cc:1115: Starting in XGBoost 1.3.0, the default evaluation metric used with the objective 'multi:softprob' was changed from 'merror' to 'mlogloss'. Explicitly set eval_metric if you'd like to restore the old behavior.\n"
     ]
    },
    {
     "name": "stderr",
     "output_type": "stream",
     "text": [
      "C:\\Users\\utkar\\anaconda3\\envs\\tfgpu\\lib\\site-packages\\xgboost\\sklearn.py:1224: UserWarning: The use of label encoder in XGBClassifier is deprecated and will be removed in a future release. To remove this warning, do the following: 1) Pass option use_label_encoder=False when constructing XGBClassifier object; and 2) Encode your labels (y) as integers starting with 0, i.e. 0, 1, 2, ..., [num_class - 1].\n",
      "  warnings.warn(label_encoder_deprecation_msg, UserWarning)\n"
     ]
    },
    {
     "name": "stdout",
     "output_type": "stream",
     "text": [
      "[22:22:45] WARNING: C:/Users/Administrator/workspace/xgboost-win64_release_1.5.1/src/learner.cc:1115: Starting in XGBoost 1.3.0, the default evaluation metric used with the objective 'multi:softprob' was changed from 'merror' to 'mlogloss'. Explicitly set eval_metric if you'd like to restore the old behavior.\n"
     ]
    },
    {
     "name": "stderr",
     "output_type": "stream",
     "text": [
      "C:\\Users\\utkar\\anaconda3\\envs\\tfgpu\\lib\\site-packages\\xgboost\\sklearn.py:1224: UserWarning: The use of label encoder in XGBClassifier is deprecated and will be removed in a future release. To remove this warning, do the following: 1) Pass option use_label_encoder=False when constructing XGBClassifier object; and 2) Encode your labels (y) as integers starting with 0, i.e. 0, 1, 2, ..., [num_class - 1].\n",
      "  warnings.warn(label_encoder_deprecation_msg, UserWarning)\n"
     ]
    },
    {
     "name": "stdout",
     "output_type": "stream",
     "text": [
      "[22:22:48] WARNING: C:/Users/Administrator/workspace/xgboost-win64_release_1.5.1/src/learner.cc:1115: Starting in XGBoost 1.3.0, the default evaluation metric used with the objective 'multi:softprob' was changed from 'merror' to 'mlogloss'. Explicitly set eval_metric if you'd like to restore the old behavior.\n"
     ]
    },
    {
     "name": "stderr",
     "output_type": "stream",
     "text": [
      "C:\\Users\\utkar\\anaconda3\\envs\\tfgpu\\lib\\site-packages\\xgboost\\sklearn.py:1224: UserWarning: The use of label encoder in XGBClassifier is deprecated and will be removed in a future release. To remove this warning, do the following: 1) Pass option use_label_encoder=False when constructing XGBClassifier object; and 2) Encode your labels (y) as integers starting with 0, i.e. 0, 1, 2, ..., [num_class - 1].\n",
      "  warnings.warn(label_encoder_deprecation_msg, UserWarning)\n"
     ]
    },
    {
     "name": "stdout",
     "output_type": "stream",
     "text": [
      "[22:22:51] WARNING: C:/Users/Administrator/workspace/xgboost-win64_release_1.5.1/src/learner.cc:1115: Starting in XGBoost 1.3.0, the default evaluation metric used with the objective 'multi:softprob' was changed from 'merror' to 'mlogloss'. Explicitly set eval_metric if you'd like to restore the old behavior.\n",
      "\n",
      "Stacking classifier training Accuracy: 0.98\n",
      "Stacking classifier test Accuracy: 0.92\n"
     ]
    }
   ],
   "source": [
    "from sklearn.ensemble import StackingClassifier\n",
    "SC = StackingClassifier(estimators=estimators,final_estimator=XGB,cv=6)\n",
    "SC.fit(x_train, y_train)\n",
    "y_pred = SC.predict(x_test)\n",
    "\n",
    "print(f\"\\nStacking classifier training Accuracy: {SC.score(x_train, y_train):0.2f}\")\n",
    "print(f\"Stacking classifier test Accuracy: {SC.score(x_test, y_test):0.2f}\")"
   ]
  },
  {
   "cell_type": "code",
   "execution_count": null,
   "id": "755b81f1",
   "metadata": {},
   "outputs": [],
   "source": []
  }
 ],
 "metadata": {
  "kernelspec": {
   "display_name": "Python 3",
   "language": "python",
   "name": "python3"
  },
  "language_info": {
   "codemirror_mode": {
    "name": "ipython",
    "version": 3
   },
   "file_extension": ".py",
   "mimetype": "text/x-python",
   "name": "python",
   "nbconvert_exporter": "python",
   "pygments_lexer": "ipython3",
   "version": "3.6.13"
  }
 },
 "nbformat": 4,
 "nbformat_minor": 5
}
