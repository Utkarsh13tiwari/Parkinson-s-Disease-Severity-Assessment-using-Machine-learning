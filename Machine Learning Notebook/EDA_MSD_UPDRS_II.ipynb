{
 "cells": [
  {
   "cell_type": "markdown",
   "id": "zAGCT5wz05OZ",
   "metadata": {
    "id": "zAGCT5wz05OZ"
   },
   "source": [
    "# **Importing all libraries**\n",
    "\n",
    "\n",
    "\n"
   ]
  },
  {
   "cell_type": "code",
   "execution_count": 2,
   "id": "f1868c44",
   "metadata": {
    "id": "f1868c44"
   },
   "outputs": [],
   "source": [
    "import numpy as np\n",
    "import pandas as pd\n",
    "import matplotlib.pyplot as plt\n",
    "import seaborn as sns\n",
    "from scipy import stats\n",
    "from sklearn.preprocessing import LabelEncoder\n",
    "from sklearn.model_selection import train_test_split\n",
    "from sklearn.svm import SVC\n",
    "from sklearn.metrics import accuracy_score, classification_report, confusion_matrix\n",
    "\n"
   ]
  },
  {
   "cell_type": "markdown",
   "id": "MzN9Vab31BDl",
   "metadata": {
    "id": "MzN9Vab31BDl"
   },
   "source": [
    "# **printing Dataset**"
   ]
  },
  {
   "cell_type": "code",
   "execution_count": 3,
   "id": "74956a38",
   "metadata": {
    "colab": {
     "base_uri": "https://localhost:8080/",
     "height": 634
    },
    "id": "74956a38",
    "outputId": "835082a7-5fcd-479d-a930-bdc4cbdcbc6d"
   },
   "outputs": [],
   "source": [
    "df1 = pd.read_csv(\"MDS-UPDRS_Part_III-Group-A.csv\")\n",
    "df2 = pd.read_csv(\"MDS-UPDRS_Part_III-Group-B.csv\")\n",
    "df = pd.concat([df1, df2], axis=0)"
   ]
  },
  {
   "cell_type": "code",
   "execution_count": 4,
   "id": "a0fa638c",
   "metadata": {
    "colab": {
     "base_uri": "https://localhost:8080/"
    },
    "id": "a0fa638c",
    "outputId": "9d8d8188-d61c-44eb-fe7e-c1c9b3294678"
   },
   "outputs": [
    {
     "data": {
      "text/plain": [
       "(23929, 63)"
      ]
     },
     "execution_count": 4,
     "metadata": {},
     "output_type": "execute_result"
    }
   ],
   "source": [
    "df.shape"
   ]
  },
  {
   "cell_type": "code",
   "execution_count": 5,
   "id": "53da14ed",
   "metadata": {
    "colab": {
     "base_uri": "https://localhost:8080/",
     "height": 349
    },
    "id": "53da14ed",
    "outputId": "66d4b749-cc14-4534-f6fa-3d852a9757da"
   },
   "outputs": [
    {
     "data": {
      "text/html": [
       "<div>\n",
       "<style scoped>\n",
       "    .dataframe tbody tr th:only-of-type {\n",
       "        vertical-align: middle;\n",
       "    }\n",
       "\n",
       "    .dataframe tbody tr th {\n",
       "        vertical-align: top;\n",
       "    }\n",
       "\n",
       "    .dataframe thead th {\n",
       "        text-align: right;\n",
       "    }\n",
       "</style>\n",
       "<table border=\"1\" class=\"dataframe\">\n",
       "  <thead>\n",
       "    <tr style=\"text-align: right;\">\n",
       "      <th></th>\n",
       "      <th>Unnamed: 0</th>\n",
       "      <th>PATNO</th>\n",
       "      <th>PDTRTMNT</th>\n",
       "      <th>HRPOSTMED</th>\n",
       "      <th>HRDBSON</th>\n",
       "      <th>HRDBSOFF</th>\n",
       "      <th>PDMEDYN</th>\n",
       "      <th>DBSYN</th>\n",
       "      <th>ONOFFORDER</th>\n",
       "      <th>OFFEXAM</th>\n",
       "      <th>...</th>\n",
       "      <th>NP3RTARU</th>\n",
       "      <th>NP3RTALU</th>\n",
       "      <th>NP3RTARL</th>\n",
       "      <th>NP3RTALL</th>\n",
       "      <th>NP3RTALJ</th>\n",
       "      <th>NP3RTCON</th>\n",
       "      <th>NP3TOT</th>\n",
       "      <th>DYSKPRES</th>\n",
       "      <th>DYSKIRAT</th>\n",
       "      <th>NHY</th>\n",
       "    </tr>\n",
       "  </thead>\n",
       "  <tbody>\n",
       "    <tr>\n",
       "      <th>count</th>\n",
       "      <td>23929.000000</td>\n",
       "      <td>23929.000000</td>\n",
       "      <td>21635.000000</td>\n",
       "      <td>9915.000000</td>\n",
       "      <td>286.000000</td>\n",
       "      <td>100.000000</td>\n",
       "      <td>20588.000000</td>\n",
       "      <td>22881.000000</td>\n",
       "      <td>2476.000000</td>\n",
       "      <td>1692.000000</td>\n",
       "      <td>...</td>\n",
       "      <td>23131.000000</td>\n",
       "      <td>23131.000000</td>\n",
       "      <td>23131.000000</td>\n",
       "      <td>23131.000000</td>\n",
       "      <td>23129.000000</td>\n",
       "      <td>23128.000000</td>\n",
       "      <td>20655.000000</td>\n",
       "      <td>23122.000000</td>\n",
       "      <td>5454.000000</td>\n",
       "      <td>23122.000000</td>\n",
       "    </tr>\n",
       "    <tr>\n",
       "      <th>mean</th>\n",
       "      <td>11986.122696</td>\n",
       "      <td>42839.330812</td>\n",
       "      <td>0.505662</td>\n",
       "      <td>31.998958</td>\n",
       "      <td>6.328266</td>\n",
       "      <td>0.676342</td>\n",
       "      <td>0.527492</td>\n",
       "      <td>0.036449</td>\n",
       "      <td>1.296042</td>\n",
       "      <td>0.591017</td>\n",
       "      <td>...</td>\n",
       "      <td>0.693096</td>\n",
       "      <td>0.621504</td>\n",
       "      <td>0.840128</td>\n",
       "      <td>0.853184</td>\n",
       "      <td>0.394267</td>\n",
       "      <td>1.117304</td>\n",
       "      <td>17.478092</td>\n",
       "      <td>0.059597</td>\n",
       "      <td>0.022186</td>\n",
       "      <td>2.363896</td>\n",
       "    </tr>\n",
       "    <tr>\n",
       "      <th>std</th>\n",
       "      <td>6891.505483</td>\n",
       "      <td>50574.208877</td>\n",
       "      <td>0.499979</td>\n",
       "      <td>2038.834751</td>\n",
       "      <td>5.561252</td>\n",
       "      <td>1.055085</td>\n",
       "      <td>0.499256</td>\n",
       "      <td>0.187410</td>\n",
       "      <td>0.456602</td>\n",
       "      <td>0.491792</td>\n",
       "      <td>...</td>\n",
       "      <td>5.268224</td>\n",
       "      <td>5.457121</td>\n",
       "      <td>8.526181</td>\n",
       "      <td>8.677553</td>\n",
       "      <td>5.895777</td>\n",
       "      <td>5.896994</td>\n",
       "      <td>14.674612</td>\n",
       "      <td>0.236744</td>\n",
       "      <td>0.147300</td>\n",
       "      <td>10.628040</td>\n",
       "    </tr>\n",
       "    <tr>\n",
       "      <th>min</th>\n",
       "      <td>0.000000</td>\n",
       "      <td>3000.000000</td>\n",
       "      <td>0.000000</td>\n",
       "      <td>-8760.500000</td>\n",
       "      <td>-10.766700</td>\n",
       "      <td>-0.083300</td>\n",
       "      <td>0.000000</td>\n",
       "      <td>0.000000</td>\n",
       "      <td>1.000000</td>\n",
       "      <td>0.000000</td>\n",
       "      <td>...</td>\n",
       "      <td>0.000000</td>\n",
       "      <td>0.000000</td>\n",
       "      <td>0.000000</td>\n",
       "      <td>0.000000</td>\n",
       "      <td>0.000000</td>\n",
       "      <td>0.000000</td>\n",
       "      <td>0.000000</td>\n",
       "      <td>0.000000</td>\n",
       "      <td>0.000000</td>\n",
       "      <td>0.000000</td>\n",
       "    </tr>\n",
       "    <tr>\n",
       "      <th>25%</th>\n",
       "      <td>6020.000000</td>\n",
       "      <td>3564.000000</td>\n",
       "      <td>0.000000</td>\n",
       "      <td>1.333300</td>\n",
       "      <td>1.350000</td>\n",
       "      <td>0.066700</td>\n",
       "      <td>0.000000</td>\n",
       "      <td>0.000000</td>\n",
       "      <td>1.000000</td>\n",
       "      <td>0.000000</td>\n",
       "      <td>...</td>\n",
       "      <td>0.000000</td>\n",
       "      <td>0.000000</td>\n",
       "      <td>0.000000</td>\n",
       "      <td>0.000000</td>\n",
       "      <td>0.000000</td>\n",
       "      <td>0.000000</td>\n",
       "      <td>4.000000</td>\n",
       "      <td>0.000000</td>\n",
       "      <td>0.000000</td>\n",
       "      <td>0.000000</td>\n",
       "    </tr>\n",
       "    <tr>\n",
       "      <th>50%</th>\n",
       "      <td>11992.000000</td>\n",
       "      <td>40609.000000</td>\n",
       "      <td>1.000000</td>\n",
       "      <td>3.000000</td>\n",
       "      <td>4.125000</td>\n",
       "      <td>0.250000</td>\n",
       "      <td>1.000000</td>\n",
       "      <td>0.000000</td>\n",
       "      <td>1.000000</td>\n",
       "      <td>1.000000</td>\n",
       "      <td>...</td>\n",
       "      <td>0.000000</td>\n",
       "      <td>0.000000</td>\n",
       "      <td>0.000000</td>\n",
       "      <td>0.000000</td>\n",
       "      <td>0.000000</td>\n",
       "      <td>0.000000</td>\n",
       "      <td>16.000000</td>\n",
       "      <td>0.000000</td>\n",
       "      <td>0.000000</td>\n",
       "      <td>2.000000</td>\n",
       "    </tr>\n",
       "    <tr>\n",
       "      <th>75%</th>\n",
       "      <td>17937.000000</td>\n",
       "      <td>58671.000000</td>\n",
       "      <td>1.000000</td>\n",
       "      <td>12.000000</td>\n",
       "      <td>11.350000</td>\n",
       "      <td>1.166700</td>\n",
       "      <td>1.000000</td>\n",
       "      <td>0.000000</td>\n",
       "      <td>2.000000</td>\n",
       "      <td>1.000000</td>\n",
       "      <td>...</td>\n",
       "      <td>0.000000</td>\n",
       "      <td>0.000000</td>\n",
       "      <td>0.000000</td>\n",
       "      <td>0.000000</td>\n",
       "      <td>0.000000</td>\n",
       "      <td>1.000000</td>\n",
       "      <td>27.000000</td>\n",
       "      <td>0.000000</td>\n",
       "      <td>0.000000</td>\n",
       "      <td>2.000000</td>\n",
       "    </tr>\n",
       "    <tr>\n",
       "      <th>max</th>\n",
       "      <td>23930.000000</td>\n",
       "      <td>293714.000000</td>\n",
       "      <td>1.000000</td>\n",
       "      <td>175321.383300</td>\n",
       "      <td>16.000000</td>\n",
       "      <td>8.666700</td>\n",
       "      <td>1.000000</td>\n",
       "      <td>1.000000</td>\n",
       "      <td>2.000000</td>\n",
       "      <td>1.000000</td>\n",
       "      <td>...</td>\n",
       "      <td>101.000000</td>\n",
       "      <td>101.000000</td>\n",
       "      <td>101.000000</td>\n",
       "      <td>101.000000</td>\n",
       "      <td>101.000000</td>\n",
       "      <td>101.000000</td>\n",
       "      <td>100.000000</td>\n",
       "      <td>1.000000</td>\n",
       "      <td>1.000000</td>\n",
       "      <td>101.000000</td>\n",
       "    </tr>\n",
       "  </tbody>\n",
       "</table>\n",
       "<p>8 rows × 50 columns</p>\n",
       "</div>"
      ],
      "text/plain": [
       "         Unnamed: 0          PATNO      PDTRTMNT      HRPOSTMED     HRDBSON  \\\n",
       "count  23929.000000   23929.000000  21635.000000    9915.000000  286.000000   \n",
       "mean   11986.122696   42839.330812      0.505662      31.998958    6.328266   \n",
       "std     6891.505483   50574.208877      0.499979    2038.834751    5.561252   \n",
       "min        0.000000    3000.000000      0.000000   -8760.500000  -10.766700   \n",
       "25%     6020.000000    3564.000000      0.000000       1.333300    1.350000   \n",
       "50%    11992.000000   40609.000000      1.000000       3.000000    4.125000   \n",
       "75%    17937.000000   58671.000000      1.000000      12.000000   11.350000   \n",
       "max    23930.000000  293714.000000      1.000000  175321.383300   16.000000   \n",
       "\n",
       "         HRDBSOFF       PDMEDYN         DBSYN   ONOFFORDER      OFFEXAM  ...  \\\n",
       "count  100.000000  20588.000000  22881.000000  2476.000000  1692.000000  ...   \n",
       "mean     0.676342      0.527492      0.036449     1.296042     0.591017  ...   \n",
       "std      1.055085      0.499256      0.187410     0.456602     0.491792  ...   \n",
       "min     -0.083300      0.000000      0.000000     1.000000     0.000000  ...   \n",
       "25%      0.066700      0.000000      0.000000     1.000000     0.000000  ...   \n",
       "50%      0.250000      1.000000      0.000000     1.000000     1.000000  ...   \n",
       "75%      1.166700      1.000000      0.000000     2.000000     1.000000  ...   \n",
       "max      8.666700      1.000000      1.000000     2.000000     1.000000  ...   \n",
       "\n",
       "           NP3RTARU      NP3RTALU      NP3RTARL      NP3RTALL      NP3RTALJ  \\\n",
       "count  23131.000000  23131.000000  23131.000000  23131.000000  23129.000000   \n",
       "mean       0.693096      0.621504      0.840128      0.853184      0.394267   \n",
       "std        5.268224      5.457121      8.526181      8.677553      5.895777   \n",
       "min        0.000000      0.000000      0.000000      0.000000      0.000000   \n",
       "25%        0.000000      0.000000      0.000000      0.000000      0.000000   \n",
       "50%        0.000000      0.000000      0.000000      0.000000      0.000000   \n",
       "75%        0.000000      0.000000      0.000000      0.000000      0.000000   \n",
       "max      101.000000    101.000000    101.000000    101.000000    101.000000   \n",
       "\n",
       "           NP3RTCON        NP3TOT      DYSKPRES     DYSKIRAT           NHY  \n",
       "count  23128.000000  20655.000000  23122.000000  5454.000000  23122.000000  \n",
       "mean       1.117304     17.478092      0.059597     0.022186      2.363896  \n",
       "std        5.896994     14.674612      0.236744     0.147300     10.628040  \n",
       "min        0.000000      0.000000      0.000000     0.000000      0.000000  \n",
       "25%        0.000000      4.000000      0.000000     0.000000      0.000000  \n",
       "50%        0.000000     16.000000      0.000000     0.000000      2.000000  \n",
       "75%        1.000000     27.000000      0.000000     0.000000      2.000000  \n",
       "max      101.000000    100.000000      1.000000     1.000000    101.000000  \n",
       "\n",
       "[8 rows x 50 columns]"
      ]
     },
     "execution_count": 5,
     "metadata": {},
     "output_type": "execute_result"
    }
   ],
   "source": [
    "df.describe()"
   ]
  },
  {
   "cell_type": "code",
   "execution_count": 6,
   "id": "14f1af6b",
   "metadata": {
    "colab": {
     "base_uri": "https://localhost:8080/"
    },
    "id": "14f1af6b",
    "outputId": "b1083ed6-60e9-4f2f-ed23-11fd2db9d8bb"
   },
   "outputs": [
    {
     "name": "stdout",
     "output_type": "stream",
     "text": [
      "<class 'pandas.core.frame.DataFrame'>\n",
      "Int64Index: 23929 entries, 0 to 11964\n",
      "Data columns (total 63 columns):\n",
      " #   Column       Non-Null Count  Dtype  \n",
      "---  ------       --------------  -----  \n",
      " 0   Unnamed: 0   23929 non-null  int64  \n",
      " 1   REC_ID       23929 non-null  object \n",
      " 2   PATNO        23929 non-null  int64  \n",
      " 3   EVENT_ID     23929 non-null  object \n",
      " 4   PAG_NAME     23929 non-null  object \n",
      " 5   INFODT       23929 non-null  object \n",
      " 6   PDTRTMNT     21635 non-null  float64\n",
      " 7   PDSTATE      10986 non-null  object \n",
      " 8   HRPOSTMED    9915 non-null   float64\n",
      " 9   HRDBSON      286 non-null    float64\n",
      " 10  HRDBSOFF     100 non-null    float64\n",
      " 11  PDMEDYN      20588 non-null  float64\n",
      " 12  DBSYN        22881 non-null  float64\n",
      " 13  ONOFFORDER   2476 non-null   float64\n",
      " 14  OFFEXAM      1692 non-null   float64\n",
      " 15  OFFNORSN     687 non-null    float64\n",
      " 16  DBSOFFTM     113 non-null    object \n",
      " 17  ONEXAM       1764 non-null   float64\n",
      " 18  ONNORSN      106 non-null    float64\n",
      " 19  DBSONTM      298 non-null    object \n",
      " 20  PDMEDDT      10038 non-null  object \n",
      " 21  PDMEDTM      10029 non-null  object \n",
      " 22  EXAMDT       23127 non-null  object \n",
      " 23  EXAMTM       19509 non-null  object \n",
      " 24  NP3SPCH      23132 non-null  float64\n",
      " 25  NP3FACXP     23132 non-null  float64\n",
      " 26  NP3RIGN      23129 non-null  float64\n",
      " 27  NP3RIGRU     23129 non-null  float64\n",
      " 28  NP3RIGLU     23129 non-null  float64\n",
      " 29  NP3RIGRL     23128 non-null  float64\n",
      " 30  NP3RIGLL     23127 non-null  float64\n",
      " 31  NP3FTAPR     23131 non-null  float64\n",
      " 32  NP3FTAPL     23125 non-null  float64\n",
      " 33  NP3HMOVR     23131 non-null  float64\n",
      " 34  NP3HMOVL     23123 non-null  float64\n",
      " 35  NP3PRSPR     23131 non-null  float64\n",
      " 36  NP3PRSPL     23128 non-null  float64\n",
      " 37  NP3TTAPR     23103 non-null  float64\n",
      " 38  NP3TTAPL     23103 non-null  float64\n",
      " 39  NP3LGAGR     23131 non-null  float64\n",
      " 40  NP3LGAGL     23129 non-null  float64\n",
      " 41  NP3RISNG     23128 non-null  float64\n",
      " 42  NP3GAIT      23129 non-null  float64\n",
      " 43  NP3FRZGT     23119 non-null  float64\n",
      " 44  NP3PSTBL     23099 non-null  float64\n",
      " 45  NP3POSTR     23130 non-null  float64\n",
      " 46  NP3BRADY     23130 non-null  float64\n",
      " 47  NP3PTRMR     23130 non-null  float64\n",
      " 48  NP3PTRML     23128 non-null  float64\n",
      " 49  NP3KTRMR     23130 non-null  float64\n",
      " 50  NP3KTRML     23131 non-null  float64\n",
      " 51  NP3RTARU     23131 non-null  float64\n",
      " 52  NP3RTALU     23131 non-null  float64\n",
      " 53  NP3RTARL     23131 non-null  float64\n",
      " 54  NP3RTALL     23131 non-null  float64\n",
      " 55  NP3RTALJ     23129 non-null  float64\n",
      " 56  NP3RTCON     23128 non-null  float64\n",
      " 57  NP3TOT       20655 non-null  float64\n",
      " 58  DYSKPRES     23122 non-null  float64\n",
      " 59  DYSKIRAT     5454 non-null   float64\n",
      " 60  NHY          23122 non-null  float64\n",
      " 61  ORIG_ENTRY   23929 non-null  object \n",
      " 62  LAST_UPDATE  23929 non-null  object \n",
      "dtypes: float64(48), int64(2), object(13)\n",
      "memory usage: 11.7+ MB\n"
     ]
    }
   ],
   "source": [
    "df.info()"
   ]
  },
  {
   "cell_type": "markdown",
   "id": "Ln4onPMY1H0s",
   "metadata": {
    "id": "Ln4onPMY1H0s"
   },
   "source": [
    "# **Finding missing values**"
   ]
  },
  {
   "cell_type": "code",
   "execution_count": 7,
   "id": "6ab9fb0d",
   "metadata": {
    "colab": {
     "base_uri": "https://localhost:8080/"
    },
    "id": "6ab9fb0d",
    "outputId": "1d016633-2fac-4834-a038-016333eab3fe"
   },
   "outputs": [
    {
     "data": {
      "text/plain": [
       "HRDBSOFF       99.582097\n",
       "ONNORSN        99.557023\n",
       "DBSOFFTM       99.527770\n",
       "HRDBSON        98.804798\n",
       "DBSONTM        98.754649\n",
       "                 ...    \n",
       "LAST_UPDATE     0.000000\n",
       "PAG_NAME        0.000000\n",
       "INFODT          0.000000\n",
       "ORIG_ENTRY      0.000000\n",
       "Unnamed: 0      0.000000\n",
       "Length: 63, dtype: float64"
      ]
     },
     "execution_count": 7,
     "metadata": {},
     "output_type": "execute_result"
    }
   ],
   "source": [
    "null_values = df.isna().sum()/len(df)*100\n",
    "null_values.sort_values(ascending = False)"
   ]
  },
  {
   "cell_type": "code",
   "execution_count": 8,
   "id": "2t_Pw5YSpUjz",
   "metadata": {
    "colab": {
     "base_uri": "https://localhost:8080/"
    },
    "id": "2t_Pw5YSpUjz",
    "outputId": "b0dc6fc7-ba73-4e4e-f93a-a587e0199862"
   },
   "outputs": [
    {
     "data": {
      "text/plain": [
       "3400      44\n",
       "3407      40\n",
       "4091      40\n",
       "3422      39\n",
       "3954      38\n",
       "          ..\n",
       "143551     1\n",
       "239820     1\n",
       "200637     1\n",
       "195088     1\n",
       "4060       1\n",
       "Name: PATNO, Length: 2861, dtype: int64"
      ]
     },
     "execution_count": 8,
     "metadata": {},
     "output_type": "execute_result"
    }
   ],
   "source": [
    "df[\"PATNO\"].value_counts()"
   ]
  },
  {
   "cell_type": "code",
   "execution_count": 9,
   "id": "0DYz14zip6v-",
   "metadata": {
    "colab": {
     "base_uri": "https://localhost:8080/"
    },
    "id": "0DYz14zip6v-",
    "outputId": "cb3e0db7-422d-4f4c-dcf2-edc75b120346"
   },
   "outputs": [
    {
     "data": {
      "text/plain": [
       "2.0      10404\n",
       "0.0       7861\n",
       "1.0       3394\n",
       "3.0        967\n",
       "101.0      263\n",
       "4.0        173\n",
       "5.0         60\n",
       "Name: NHY, dtype: int64"
      ]
     },
     "execution_count": 9,
     "metadata": {},
     "output_type": "execute_result"
    }
   ],
   "source": [
    "df[\"NHY\"].value_counts()"
   ]
  },
  {
   "cell_type": "markdown",
   "id": "Yv18V-AD1rF7",
   "metadata": {
    "id": "Yv18V-AD1rF7"
   },
   "source": [
    "# **Handling Missing values**"
   ]
  },
  {
   "cell_type": "markdown",
   "id": "BXonMUOZb3m3",
   "metadata": {
    "id": "BXonMUOZb3m3"
   },
   "source": [
    "**Drop column with high percentage of missing value**"
   ]
  },
  {
   "cell_type": "code",
   "execution_count": 10,
   "id": "7qRPFc3QXvqY",
   "metadata": {
    "colab": {
     "base_uri": "https://localhost:8080/"
    },
    "id": "7qRPFc3QXvqY",
    "outputId": "29d8a377-bca6-4798-f5b1-3e9fb0789f1b"
   },
   "outputs": [
    {
     "name": "stdout",
     "output_type": "stream",
     "text": [
      "       Unnamed: 0      REC_ID   PATNO EVENT_ID    PAG_NAME   INFODT  PDTRTMNT  \\\n",
      "0           17595   671077401   57869      V04     NUPDRS3  12/2017       1.0   \n",
      "1           21551  IANT214603  111429       BL  NUPDRDOSE3  11/2022       0.0   \n",
      "2           23302  IANT310558  182340       BL  NUPDRDOSE3  02/2023       0.0   \n",
      "3           20789  IAON164829  101018      V02  NUPDRDOSE3  11/2021       1.0   \n",
      "4           16024  IANT163527   52587      V12  NUPDRDOSE3  04/2021       0.0   \n",
      "...           ...         ...     ...      ...         ...      ...       ...   \n",
      "11960       17893  IAOF164017   58510      V08  NUPDRDOSE3  03/2021       1.0   \n",
      "11961         720   532644601    3069      V10     NUPDRS3  08/2015       NaN   \n",
      "11962       22646  IANT165575  153027       BL  NUPDRDOSE3  08/2022       0.0   \n",
      "11963       18553   478056701   60043      V02     NUPDRS3  11/2014       0.0   \n",
      "11964        3195  IANT162050    3318      R16  NUPDRDOSE3  02/2022       0.0   \n",
      "\n",
      "      PDSTATE  HRPOSTMED  PDMEDYN  ...  NP3RTALU NP3RTARL NP3RTALL NP3RTALJ  \\\n",
      "0         OFF    14.5000      1.0  ...       1.0      2.0      3.0      0.0   \n",
      "1         NaN        NaN      0.0  ...       0.0      0.0      0.0      0.0   \n",
      "2         NaN        NaN      0.0  ...       1.0      0.0      0.0      0.0   \n",
      "3          ON     3.0833      1.0  ...       0.0      0.0      0.0      0.0   \n",
      "4         NaN        NaN      0.0  ...       0.0      0.0      0.0      0.0   \n",
      "...       ...        ...      ...  ...       ...      ...      ...      ...   \n",
      "11960     OFF        NaN      1.0  ...       NaN      NaN      NaN      NaN   \n",
      "11961     NaN        NaN      NaN  ...       0.0      0.0      0.0      0.0   \n",
      "11962     NaN        NaN      NaN  ...       0.0      0.0      0.0      0.0   \n",
      "11963     NaN        NaN      0.0  ...       0.0      0.0      0.0      0.0   \n",
      "11964     NaN        NaN      NaN  ...       0.0      0.0      0.0      0.0   \n",
      "\n",
      "      NP3RTCON  NP3TOT  DYSKPRES  NHY  ORIG_ENTRY            LAST_UPDATE  \n",
      "0          0.0    54.0       0.0  2.0     01/2018  2018-01-11 15:46:02.0  \n",
      "1          0.0     0.0       0.0  0.0     12/2022  2022-12-20 00:00:00.0  \n",
      "2          1.0    16.0       0.0  1.0     08/2023  2023-08-09 00:00:00.0  \n",
      "3          0.0    15.0       0.0  2.0     11/2021  2021-11-16 00:00:00.0  \n",
      "4          0.0     0.0       0.0  0.0     05/2021  2021-05-04 00:00:00.0  \n",
      "...        ...     ...       ...  ...         ...                    ...  \n",
      "11960      NaN     NaN       NaN  NaN     03/2021  2021-03-23 00:00:00.0  \n",
      "11961      0.0     1.0       0.0  0.0     08/2015  2020-06-24 12:34:50.0  \n",
      "11962      0.0    18.0       0.0  1.0     09/2022  2022-09-01 00:00:00.0  \n",
      "11963      0.0     0.0       0.0  0.0     11/2014  2020-01-24 15:33:29.0  \n",
      "11964      0.0     NaN       0.0  2.0     02/2022  2022-02-09 00:00:00.0  \n",
      "\n",
      "[23929 rows x 53 columns]\n"
     ]
    }
   ],
   "source": [
    "threshold = 70  # Set the threshold for missing values percentage\n",
    "\n",
    "# Calculate the percentage of missing values for each column\n",
    "null_values = df.isna().mean() * 100\n",
    "\n",
    "# Identify columns with missing values greater than the threshold\n",
    "columns_to_drop = null_values[null_values > threshold].index\n",
    "\n",
    "# Drop the identified columns\n",
    "df = df.drop(columns=columns_to_drop)\n",
    "\n",
    "# Display the DataFrame after dropping columns\n",
    "print(df)"
   ]
  },
  {
   "cell_type": "code",
   "execution_count": 11,
   "id": "QDGoxBFy1gCC",
   "metadata": {
    "colab": {
     "base_uri": "https://localhost:8080/"
    },
    "id": "QDGoxBFy1gCC",
    "outputId": "95c6d209-1317-45d8-b65e-bb8eeed68b3b"
   },
   "outputs": [
    {
     "data": {
      "text/plain": [
       "HRPOSTMED      58.564921\n",
       "PDMEDTM        58.088512\n",
       "PDMEDDT        58.050901\n",
       "PDSTATE        54.089180\n",
       "EXAMTM         18.471311\n",
       "PDMEDYN        13.962138\n",
       "NP3TOT         13.682143\n",
       "PDTRTMNT        9.586694\n",
       "DBSYN           4.379623\n",
       "NP3PSTBL        3.468595\n",
       "NP3TTAPL        3.451878\n",
       "NP3TTAPR        3.451878\n",
       "NP3FRZGT        3.385014\n",
       "NHY             3.372477\n",
       "DYSKPRES        3.372477\n",
       "NP3HMOVL        3.368298\n",
       "NP3FTAPL        3.359940\n",
       "NP3RIGLL        3.351582\n",
       "EXAMDT          3.351582\n",
       "NP3RTCON        3.347403\n",
       "NP3PRSPL        3.347403\n",
       "NP3RIGRL        3.347403\n",
       "NP3RISNG        3.347403\n",
       "NP3PTRML        3.347403\n",
       "NP3RIGN         3.343224\n",
       "NP3RIGLU        3.343224\n",
       "NP3RTALJ        3.343224\n",
       "NP3LGAGL        3.343224\n",
       "NP3GAIT         3.343224\n",
       "NP3RIGRU        3.343224\n",
       "NP3POSTR        3.339045\n",
       "NP3BRADY        3.339045\n",
       "NP3PTRMR        3.339045\n",
       "NP3KTRMR        3.339045\n",
       "NP3PRSPR        3.334866\n",
       "NP3FTAPR        3.334866\n",
       "NP3HMOVR        3.334866\n",
       "NP3LGAGR        3.334866\n",
       "NP3KTRML        3.334866\n",
       "NP3RTARU        3.334866\n",
       "NP3RTALU        3.334866\n",
       "NP3RTARL        3.334866\n",
       "NP3RTALL        3.334866\n",
       "NP3FACXP        3.330687\n",
       "NP3SPCH         3.330687\n",
       "REC_ID          0.000000\n",
       "EVENT_ID        0.000000\n",
       "PATNO           0.000000\n",
       "LAST_UPDATE     0.000000\n",
       "PAG_NAME        0.000000\n",
       "INFODT          0.000000\n",
       "ORIG_ENTRY      0.000000\n",
       "Unnamed: 0      0.000000\n",
       "dtype: float64"
      ]
     },
     "execution_count": 11,
     "metadata": {},
     "output_type": "execute_result"
    }
   ],
   "source": [
    "null_values = df.isna().sum()/len(df)*100\n",
    "null_values.sort_values(ascending = False)\n"
   ]
  },
  {
   "cell_type": "code",
   "execution_count": 12,
   "id": "_BjitjGm0J7X",
   "metadata": {
    "id": "_BjitjGm0J7X"
   },
   "outputs": [],
   "source": [
    "# Assuming you want to drop these columns\n",
    "columns_to_drop = [\"PDMEDTM\",\"PDMEDDT\",\"EXAMTM\",\"EXAMDT\",\"ORIG_ENTRY\",\"EVENT_ID\",\"INFODT\",\"LAST_UPDATE\",\"Unnamed: 0\",\"REC_ID\"]\n",
    "\n",
    "# Drop the specified columns from the original DataFrame\n",
    "df = df.drop(columns=columns_to_drop, axis=1)\n"
   ]
  },
  {
   "cell_type": "markdown",
   "id": "tZSiRizxEEUN",
   "metadata": {
    "id": "tZSiRizxEEUN"
   },
   "source": [
    "# ***Dropping rows having null values***"
   ]
  },
  {
   "cell_type": "code",
   "execution_count": 13,
   "id": "7OewNNagEC1w",
   "metadata": {
    "colab": {
     "base_uri": "https://localhost:8080/"
    },
    "id": "7OewNNagEC1w",
    "outputId": "6deea045-7573-4cef-ee86-5717357644ac"
   },
   "outputs": [
    {
     "name": "stdout",
     "output_type": "stream",
     "text": [
      "        PATNO    PAG_NAME  PDTRTMNT PDSTATE  HRPOSTMED  PDMEDYN  DBSYN  \\\n",
      "0       57869     NUPDRS3       1.0     OFF    14.5000      1.0    0.0   \n",
      "3      101018  NUPDRDOSE3       1.0      ON     3.0833      1.0    0.0   \n",
      "9        3282    NUPDRS3A       1.0      ON     1.5167      1.0    0.0   \n",
      "10       3960  NUPDRDOSE3       1.0      ON     1.3167      1.0    0.0   \n",
      "14       3482     NUPDRS3       1.0     OFF    16.5833      1.0    0.0   \n",
      "...       ...         ...       ...     ...        ...      ...    ...   \n",
      "11948    3822  NUPDRDOSE3       1.0      ON     1.0000      1.0    0.0   \n",
      "11949    3365     NUPDRS3       1.0      ON     1.1667      1.0    0.0   \n",
      "11951   42411    NUPDRS3A       1.0      ON     0.8333      1.0    0.0   \n",
      "11956  143192  NUPDRDOSE3       1.0      ON     0.4667      1.0    0.0   \n",
      "11959    3203     NUPDRS3       1.0      ON     1.7500      1.0    0.0   \n",
      "\n",
      "       NP3SPCH  NP3FACXP  NP3RIGN  ...  NP3KTRML  NP3RTARU  NP3RTALU  \\\n",
      "0          1.0       2.0      3.0  ...       0.0       2.0       1.0   \n",
      "3          0.0       1.0      0.0  ...       0.0       0.0       0.0   \n",
      "9          0.0       1.0      0.0  ...       0.0       0.0       0.0   \n",
      "10         0.0       1.0      0.0  ...       1.0       0.0       0.0   \n",
      "14         1.0       1.0      1.0  ...       1.0       0.0       0.0   \n",
      "...        ...       ...      ...  ...       ...       ...       ...   \n",
      "11948      1.0       1.0      1.0  ...       0.0       0.0       0.0   \n",
      "11949      0.0       0.0      1.0  ...       0.0       0.0       1.0   \n",
      "11951      1.0       1.0      1.0  ...       0.0       0.0       0.0   \n",
      "11956      2.0       1.0      2.0  ...       0.0       0.0       0.0   \n",
      "11959      1.0       1.0      1.0  ...       2.0       0.0       2.0   \n",
      "\n",
      "       NP3RTARL  NP3RTALL  NP3RTALJ  NP3RTCON  NP3TOT  DYSKPRES  NHY  \n",
      "0           2.0       3.0       0.0       0.0    54.0       0.0  2.0  \n",
      "3           0.0       0.0       0.0       0.0    15.0       0.0  2.0  \n",
      "9           0.0       1.0       0.0       1.0    12.0       0.0  2.0  \n",
      "10          0.0       0.0       0.0       0.0     7.0       1.0  2.0  \n",
      "14          0.0       0.0       0.0       0.0    19.0       0.0  1.0  \n",
      "...         ...       ...       ...       ...     ...       ...  ...  \n",
      "11948       0.0       0.0       0.0       1.0    30.0       0.0  1.0  \n",
      "11949       0.0       1.0       0.0       2.0    15.0       0.0  2.0  \n",
      "11951       0.0       0.0       0.0       0.0    14.0       0.0  3.0  \n",
      "11956       0.0       0.0       0.0       0.0    29.0       0.0  2.0  \n",
      "11959       0.0       0.0       0.0       3.0    26.0       1.0  1.0  \n",
      "\n",
      "[9009 rows x 43 columns]\n"
     ]
    }
   ],
   "source": [
    "# Identify numerical columns with missing values\n",
    "numerical_columns_with_missing = df.select_dtypes(include='number').columns[df.select_dtypes(include='number').isnull().any()]\n",
    "\n",
    "df=df.dropna()\n",
    "\n",
    "# Now, 'df' contains numerical columns with missing values replaced by the median\n",
    "print(df)"
   ]
  },
  {
   "cell_type": "markdown",
   "id": "7udGmLmPcSEU",
   "metadata": {
    "id": "7udGmLmPcSEU"
   },
   "source": [
    "**Replace missing values with median**"
   ]
  },
  {
   "cell_type": "code",
   "execution_count": 14,
   "id": "dyiQQRg91v-g",
   "metadata": {
    "id": "dyiQQRg91v-g"
   },
   "outputs": [],
   "source": [
    "# # Identify numerical columns with missing values\n",
    "# numerical_columns_with_missing = df.select_dtypes(include='number').columns[df.select_dtypes(include='number').isnull().any()]\n",
    "\n",
    "# # Replace missing values with median for each numerical column\n",
    "# for column in numerical_columns_with_missing:\n",
    "#     median_value = df[column].median()\n",
    "#     df[column].fillna(median_value, inplace=True)\n",
    "\n",
    "# # Now, 'df' contains numerical columns with missing values replaced by the median\n",
    "# print(df)"
   ]
  },
  {
   "cell_type": "markdown",
   "id": "54aHhJdTcQdY",
   "metadata": {
    "id": "54aHhJdTcQdY"
   },
   "source": [
    "**Replace missing values with mode**"
   ]
  },
  {
   "cell_type": "code",
   "execution_count": 15,
   "id": "iY8k4cqC2oLs",
   "metadata": {
    "colab": {
     "base_uri": "https://localhost:8080/"
    },
    "id": "iY8k4cqC2oLs",
    "outputId": "b884d7c4-a353-4fb3-de77-131b7b866f66"
   },
   "outputs": [],
   "source": [
    "# # Identify Categorical columns with missing values\n",
    "# numerical_columns_with_missing = df.select_dtypes(include='object').columns[df.select_dtypes(include='object').isnull().any()]\n",
    "\n",
    "# # Replace missing values with mode for each categorical column\n",
    "# for column in numerical_columns_with_missing:\n",
    "#     mode_value = df[column].mode()[0]\n",
    "#     df[column].fillna(mode_value, inplace=True)\n",
    "\n",
    "# # Now, 'df' contains numerical columns with missing values replaced by the median\n",
    "# print(df)"
   ]
  },
  {
   "cell_type": "code",
   "execution_count": 16,
   "id": "-TQADGY23hlh",
   "metadata": {
    "colab": {
     "base_uri": "https://localhost:8080/"
    },
    "id": "-TQADGY23hlh",
    "outputId": "2f312fcc-74c5-4701-c930-0633516323b4"
   },
   "outputs": [
    {
     "data": {
      "text/plain": [
       "PATNO        0\n",
       "PAG_NAME     0\n",
       "PDTRTMNT     0\n",
       "PDSTATE      0\n",
       "HRPOSTMED    0\n",
       "PDMEDYN      0\n",
       "DBSYN        0\n",
       "NP3SPCH      0\n",
       "NP3FACXP     0\n",
       "NP3RIGN      0\n",
       "NP3RIGRU     0\n",
       "NP3RIGLU     0\n",
       "NP3RIGRL     0\n",
       "NP3RIGLL     0\n",
       "NP3FTAPR     0\n",
       "NP3FTAPL     0\n",
       "NP3HMOVR     0\n",
       "NP3HMOVL     0\n",
       "NP3PRSPR     0\n",
       "NP3PRSPL     0\n",
       "NP3TTAPR     0\n",
       "NP3TTAPL     0\n",
       "NP3LGAGR     0\n",
       "NP3LGAGL     0\n",
       "NP3RISNG     0\n",
       "NP3GAIT      0\n",
       "NP3FRZGT     0\n",
       "NP3PSTBL     0\n",
       "NP3POSTR     0\n",
       "NP3BRADY     0\n",
       "NP3PTRMR     0\n",
       "NP3PTRML     0\n",
       "NP3KTRMR     0\n",
       "NP3KTRML     0\n",
       "NP3RTARU     0\n",
       "NP3RTALU     0\n",
       "NP3RTARL     0\n",
       "NP3RTALL     0\n",
       "NP3RTALJ     0\n",
       "NP3RTCON     0\n",
       "NP3TOT       0\n",
       "DYSKPRES     0\n",
       "NHY          0\n",
       "dtype: int64"
      ]
     },
     "execution_count": 16,
     "metadata": {},
     "output_type": "execute_result"
    }
   ],
   "source": [
    "df.isna().sum()"
   ]
  },
  {
   "cell_type": "code",
   "execution_count": 17,
   "id": "7S4lUVR6zkL0",
   "metadata": {
    "colab": {
     "base_uri": "https://localhost:8080/",
     "height": 1000
    },
    "id": "7S4lUVR6zkL0",
    "outputId": "3332657e-8a5b-4036-dbf4-ce549fa44926"
   },
   "outputs": [],
   "source": [
    "correlation_matrix=df.corr()\n"
   ]
  },
  {
   "cell_type": "code",
   "execution_count": 38,
   "id": "78d914b4",
   "metadata": {},
   "outputs": [
    {
     "data": {
      "image/png": "[encoded data removed]",
      "text/plain": [
       "<Figure size 720x576 with 2 Axes>"
      ]
     },
     "metadata": {
      "needs_background": "light"
     },
     "output_type": "display_data"
    },
    {
     "data": {
      "text/plain": [
       "<Figure size 1440x1440 with 0 Axes>"
      ]
     },
     "metadata": {},
     "output_type": "display_data"
    }
   ],
   "source": [
    "plt.figure(figsize=(10, 8))\n",
    "sns.heatmap(correlation_matrix, annot=False, cmap='coolwarm', fmt=\".2f\", linewidths=.5)\n",
    "plt.title('Correlation Heatmap')\n",
    "plt.figure(figsize=(20,20))\n",
    "plt.show()"
   ]
  },
  {
   "cell_type": "markdown",
   "id": "5QyGWawoNJ0n",
   "metadata": {
    "id": "5QyGWawoNJ0n"
   },
   "source": [
    "# **Finding Outliers**\n"
   ]
  },
  {
   "cell_type": "code",
   "execution_count": 19,
   "id": "6VXLjUJyNUMY",
   "metadata": {
    "colab": {
     "base_uri": "https://localhost:8080/",
     "height": 447
    },
    "id": "6VXLjUJyNUMY",
    "outputId": "cc6f51ee-03aa-48a8-a3b2-3770a5b8524f"
   },
   "outputs": [
    {
     "data": {
      "text/plain": [
       "<AxesSubplot:>"
      ]
     },
     "execution_count": 19,
     "metadata": {},
     "output_type": "execute_result"
    },
    {
     "data": {
      "image/png": "[encoded data removed]",
      "text/plain": [
       "<Figure size 432x288 with 1 Axes>"
      ]
     },
     "metadata": {
      "needs_background": "light"
     },
     "output_type": "display_data"
    }
   ],
   "source": [
    "sns.boxplot(data= df.loc[:,[\"NP3TTAPL\",\"NP3LGAGR\",\"NP3RISNG\"]])"
   ]
  },
  {
   "cell_type": "code",
   "execution_count": 20,
   "id": "SV9REE0VNVhC",
   "metadata": {
    "colab": {
     "base_uri": "https://localhost:8080/",
     "height": 447
    },
    "id": "SV9REE0VNVhC",
    "outputId": "82739286-8b89-4a3b-f5b0-4994b6a9c16a"
   },
   "outputs": [
    {
     "data": {
      "text/plain": [
       "<AxesSubplot:>"
      ]
     },
     "execution_count": 20,
     "metadata": {},
     "output_type": "execute_result"
    },
    {
     "data": {
      "image/png": "[encoded data removed]",
      "text/plain": [
       "<Figure size 432x288 with 1 Axes>"
      ]
     },
     "metadata": {
      "needs_background": "light"
     },
     "output_type": "display_data"
    }
   ],
   "source": [
    "sns.boxplot(data= df.loc[:,[\"NP3SPCH\",\"NP3FACXP\",\"NP3RIGN\",\"NP3KTRMR\"]])"
   ]
  },
  {
   "cell_type": "markdown",
   "id": "-OylYOrVNNJ7",
   "metadata": {
    "id": "-OylYOrVNNJ7"
   },
   "source": [
    "# **Handling Outliers**"
   ]
  },
  {
   "cell_type": "code",
   "execution_count": 21,
   "id": "bxoQARM3MLHH",
   "metadata": {
    "colab": {
     "base_uri": "https://localhost:8080/"
    },
    "id": "bxoQARM3MLHH",
    "outputId": "ce481fcf-a973-4235-e25b-253c125ca3f8"
   },
   "outputs": [
    {
     "name": "stdout",
     "output_type": "stream",
     "text": [
      "        PATNO    PAG_NAME  PDTRTMNT PDSTATE  HRPOSTMED  PDMEDYN  DBSYN  \\\n",
      "3      101018  NUPDRDOSE3       1.0      ON     3.0833      1.0    0.0   \n",
      "9        3282    NUPDRS3A       1.0      ON     1.5167      1.0    0.0   \n",
      "10       3960  NUPDRDOSE3       1.0      ON     1.3167      1.0    0.0   \n",
      "14       3482     NUPDRS3       1.0     OFF    16.5833      1.0    0.0   \n",
      "16       3900     NUPDRS3       1.0      ON     1.7500      1.0    0.0   \n",
      "...       ...         ...       ...     ...        ...      ...    ...   \n",
      "11940    3325    NUPDR3ON       1.0      ON     0.5333      1.0    0.0   \n",
      "11948    3822  NUPDRDOSE3       1.0      ON     1.0000      1.0    0.0   \n",
      "11949    3365     NUPDRS3       1.0      ON     1.1667      1.0    0.0   \n",
      "11951   42411    NUPDRS3A       1.0      ON     0.8333      1.0    0.0   \n",
      "11959    3203     NUPDRS3       1.0      ON     1.7500      1.0    0.0   \n",
      "\n",
      "       NP3SPCH  NP3FACXP  NP3RIGN  ...  NP3KTRML  NP3RTARU  NP3RTALU  \\\n",
      "3          0.0       1.0      0.0  ...       0.0       0.0       0.0   \n",
      "9          0.0       1.0      0.0  ...       0.0       0.0       0.0   \n",
      "10         0.0       1.0      0.0  ...       1.0       0.0       0.0   \n",
      "14         1.0       1.0      1.0  ...       1.0       0.0       0.0   \n",
      "16         1.0       1.0      1.0  ...       0.0       1.0       0.0   \n",
      "...        ...       ...      ...  ...       ...       ...       ...   \n",
      "11940      1.0       1.0      2.0  ...       1.0       0.0       0.0   \n",
      "11948      1.0       1.0      1.0  ...       0.0       0.0       0.0   \n",
      "11949      0.0       0.0      1.0  ...       0.0       0.0       1.0   \n",
      "11951      1.0       1.0      1.0  ...       0.0       0.0       0.0   \n",
      "11959      1.0       1.0      1.0  ...       2.0       0.0       2.0   \n",
      "\n",
      "       NP3RTARL  NP3RTALL  NP3RTALJ  NP3RTCON  NP3TOT  DYSKPRES  NHY  \n",
      "3           0.0       0.0       0.0       0.0    15.0       0.0  2.0  \n",
      "9           0.0       1.0       0.0       1.0    12.0       0.0  2.0  \n",
      "10          0.0       0.0       0.0       0.0     7.0       1.0  2.0  \n",
      "14          0.0       0.0       0.0       0.0    19.0       0.0  1.0  \n",
      "16          0.0       0.0       0.0       1.0    18.0       0.0  2.0  \n",
      "...         ...       ...       ...       ...     ...       ...  ...  \n",
      "11940       0.0       1.0       0.0       1.0    44.0       0.0  2.0  \n",
      "11948       0.0       0.0       0.0       1.0    30.0       0.0  1.0  \n",
      "11949       0.0       1.0       0.0       2.0    15.0       0.0  2.0  \n",
      "11951       0.0       0.0       0.0       0.0    14.0       0.0  3.0  \n",
      "11959       0.0       0.0       0.0       3.0    26.0       1.0  1.0  \n",
      "\n",
      "[6368 rows x 43 columns]\n"
     ]
    },
    {
     "name": "stderr",
     "output_type": "stream",
     "text": [
      "C:\\Users\\utkar\\anaconda3\\envs\\tfgpu\\lib\\site-packages\\scipy\\stats\\stats.py:2500: RuntimeWarning: invalid value encountered in true_divide\n",
      "  return (a - mns) / sstd\n"
     ]
    }
   ],
   "source": [
    "# Identify numerical columns\n",
    "numerical_columns = df.select_dtypes(include=np.number).columns\n",
    "\n",
    "# Calculate z-scores for each numerical column\n",
    "z_scores = stats.zscore(df[numerical_columns])\n",
    "\n",
    "# Define a threshold for extreme z-scores (e.g., 3 standard deviations)\n",
    "threshold = 3\n",
    "\n",
    "# Create a boolean mask for extreme z-scores\n",
    "extreme_z_score_mask = np.abs(z_scores) > threshold\n",
    "\n",
    "# Remove rows with extreme z-scores\n",
    "dataset = df[~extreme_z_score_mask.any(axis=1)]\n",
    "print(dataset) # Now, 'df_no_extreme_z_scores' contains the DataFrame with rows having extreme z-scores removed\n"
   ]
  },
  {
   "cell_type": "code",
   "execution_count": 22,
   "id": "nLD-K4SRMi1L",
   "metadata": {
    "colab": {
     "base_uri": "https://localhost:8080/",
     "height": 447
    },
    "id": "nLD-K4SRMi1L",
    "outputId": "fde53427-c125-4b14-ad1b-de774c52d652"
   },
   "outputs": [
    {
     "data": {
      "text/plain": [
       "<AxesSubplot:>"
      ]
     },
     "execution_count": 22,
     "metadata": {},
     "output_type": "execute_result"
    },
    {
     "data": {
      "image/png": "[encoded data removed]",
      "text/plain": [
       "<Figure size 432x288 with 1 Axes>"
      ]
     },
     "metadata": {
      "needs_background": "light"
     },
     "output_type": "display_data"
    }
   ],
   "source": [
    "sns.boxplot(data= df.loc[:,[\"NP3TTAPL\",\"NP3LGAGR\",\"NP3RISNG\"]])"
   ]
  },
  {
   "cell_type": "code",
   "execution_count": 23,
   "id": "QKh3P8_MM1FJ",
   "metadata": {
    "colab": {
     "base_uri": "https://localhost:8080/",
     "height": 447
    },
    "id": "QKh3P8_MM1FJ",
    "outputId": "8f9e6814-9dc5-4b86-8bf0-393417e8edf2"
   },
   "outputs": [
    {
     "data": {
      "text/plain": [
       "<AxesSubplot:>"
      ]
     },
     "execution_count": 23,
     "metadata": {},
     "output_type": "execute_result"
    },
    {
     "data": {
      "image/png": "[encoded data removed]",
      "text/plain": [
       "<Figure size 432x288 with 1 Axes>"
      ]
     },
     "metadata": {
      "needs_background": "light"
     },
     "output_type": "display_data"
    }
   ],
   "source": [
    "sns.boxplot(data= df.loc[:,[\"NP3SPCH\",\"NP3FACXP\",\"NP3RIGN\",\"NP3KTRMR\"]])"
   ]
  },
  {
   "cell_type": "code",
   "execution_count": 24,
   "id": "V8ZZXEBJM-O6",
   "metadata": {
    "colab": {
     "base_uri": "https://localhost:8080/",
     "height": 447
    },
    "id": "V8ZZXEBJM-O6",
    "outputId": "5420be4a-f0dd-4dc7-d981-52748cbb7109"
   },
   "outputs": [
    {
     "data": {
      "text/plain": [
       "<AxesSubplot:>"
      ]
     },
     "execution_count": 24,
     "metadata": {},
     "output_type": "execute_result"
    },
    {
     "data": {
      "image/png": "[encoded data removed]",
      "text/plain": [
       "<Figure size 432x288 with 1 Axes>"
      ]
     },
     "metadata": {
      "needs_background": "light"
     },
     "output_type": "display_data"
    }
   ],
   "source": [
    "sns.boxplot(data= df.loc[:,[\"NHY\"]])"
   ]
  },
  {
   "cell_type": "markdown",
   "id": "g24EgshK3oOa",
   "metadata": {
    "id": "g24EgshK3oOa"
   },
   "source": [
    "# **Find Unique value**"
   ]
  },
  {
   "cell_type": "code",
   "execution_count": 25,
   "id": "7711a73a",
   "metadata": {
    "colab": {
     "base_uri": "https://localhost:8080/"
    },
    "id": "7711a73a",
    "outputId": "b96667ae-ce53-455b-aeb9-12ccb0803b69"
   },
   "outputs": [
    {
     "name": "stdout",
     "output_type": "stream",
     "text": [
      "PATNO : 911\n",
      "PAG_NAME : 5\n",
      "PDTRTMNT : 1\n",
      "PDSTATE : 2\n",
      "HRPOSTMED : 948\n",
      "PDMEDYN : 1\n",
      "DBSYN : 2\n",
      "NP3SPCH : 5\n",
      "NP3FACXP : 5\n",
      "NP3RIGN : 5\n",
      "NP3RIGRU : 5\n",
      "NP3RIGLU : 5\n",
      "NP3RIGRL : 5\n",
      "NP3RIGLL : 5\n",
      "NP3FTAPR : 5\n",
      "NP3FTAPL : 5\n",
      "NP3HMOVR : 5\n",
      "NP3HMOVL : 5\n",
      "NP3PRSPR : 5\n",
      "NP3PRSPL : 5\n",
      "NP3TTAPR : 5\n",
      "NP3TTAPL : 5\n",
      "NP3LGAGR : 5\n",
      "NP3LGAGL : 5\n",
      "NP3RISNG : 5\n",
      "NP3GAIT : 5\n",
      "NP3FRZGT : 5\n",
      "NP3PSTBL : 5\n",
      "NP3POSTR : 5\n",
      "NP3BRADY : 5\n",
      "NP3PTRMR : 5\n",
      "NP3PTRML : 5\n",
      "NP3KTRMR : 4\n",
      "NP3KTRML : 4\n",
      "NP3RTARU : 5\n",
      "NP3RTALU : 5\n",
      "NP3RTARL : 5\n",
      "NP3RTALL : 5\n",
      "NP3RTALJ : 4\n",
      "NP3RTCON : 5\n",
      "NP3TOT : 88\n",
      "DYSKPRES : 2\n",
      "NHY : 6\n"
     ]
    }
   ],
   "source": [
    "i = 0\n",
    "for col in df:\n",
    "    column_names = df.keys().values.tolist()\n",
    "    print(column_names[i],\":\",df[col].nunique())\n",
    "    i=i+1"
   ]
  },
  {
   "cell_type": "markdown",
   "id": "kcPoi_jy4UPv",
   "metadata": {
    "id": "kcPoi_jy4UPv"
   },
   "source": [
    "# **Encoding Categorical Data**"
   ]
  },
  {
   "cell_type": "code",
   "execution_count": 26,
   "id": "qXOHJonSI-vu",
   "metadata": {
    "colab": {
     "base_uri": "https://localhost:8080/"
    },
    "id": "qXOHJonSI-vu",
    "outputId": "8f78195a-32e8-44ee-e290-3ec4e7359449"
   },
   "outputs": [
    {
     "name": "stdout",
     "output_type": "stream",
     "text": [
      "        PATNO  PAG_NAME  PDTRTMNT  PDSTATE  HRPOSTMED  PDMEDYN  DBSYN  \\\n",
      "0       57869         3       1.0        0    14.5000      1.0    0.0   \n",
      "3      101018         2       1.0        1     3.0833      1.0    0.0   \n",
      "9        3282         4       1.0        1     1.5167      1.0    0.0   \n",
      "10       3960         2       1.0        1     1.3167      1.0    0.0   \n",
      "14       3482         3       1.0        0    16.5833      1.0    0.0   \n",
      "...       ...       ...       ...      ...        ...      ...    ...   \n",
      "11948    3822         2       1.0        1     1.0000      1.0    0.0   \n",
      "11949    3365         3       1.0        1     1.1667      1.0    0.0   \n",
      "11951   42411         4       1.0        1     0.8333      1.0    0.0   \n",
      "11956  143192         2       1.0        1     0.4667      1.0    0.0   \n",
      "11959    3203         3       1.0        1     1.7500      1.0    0.0   \n",
      "\n",
      "       NP3SPCH  NP3FACXP  NP3RIGN  ...  NP3KTRML  NP3RTARU  NP3RTALU  \\\n",
      "0          1.0       2.0      3.0  ...       0.0       2.0       1.0   \n",
      "3          0.0       1.0      0.0  ...       0.0       0.0       0.0   \n",
      "9          0.0       1.0      0.0  ...       0.0       0.0       0.0   \n",
      "10         0.0       1.0      0.0  ...       1.0       0.0       0.0   \n",
      "14         1.0       1.0      1.0  ...       1.0       0.0       0.0   \n",
      "...        ...       ...      ...  ...       ...       ...       ...   \n",
      "11948      1.0       1.0      1.0  ...       0.0       0.0       0.0   \n",
      "11949      0.0       0.0      1.0  ...       0.0       0.0       1.0   \n",
      "11951      1.0       1.0      1.0  ...       0.0       0.0       0.0   \n",
      "11956      2.0       1.0      2.0  ...       0.0       0.0       0.0   \n",
      "11959      1.0       1.0      1.0  ...       2.0       0.0       2.0   \n",
      "\n",
      "       NP3RTARL  NP3RTALL  NP3RTALJ  NP3RTCON  NP3TOT  DYSKPRES  NHY  \n",
      "0           2.0       3.0       0.0       0.0    54.0       0.0  2.0  \n",
      "3           0.0       0.0       0.0       0.0    15.0       0.0  2.0  \n",
      "9           0.0       1.0       0.0       1.0    12.0       0.0  2.0  \n",
      "10          0.0       0.0       0.0       0.0     7.0       1.0  2.0  \n",
      "14          0.0       0.0       0.0       0.0    19.0       0.0  1.0  \n",
      "...         ...       ...       ...       ...     ...       ...  ...  \n",
      "11948       0.0       0.0       0.0       1.0    30.0       0.0  1.0  \n",
      "11949       0.0       1.0       0.0       2.0    15.0       0.0  2.0  \n",
      "11951       0.0       0.0       0.0       0.0    14.0       0.0  3.0  \n",
      "11956       0.0       0.0       0.0       0.0    29.0       0.0  2.0  \n",
      "11959       0.0       0.0       0.0       3.0    26.0       1.0  1.0  \n",
      "\n",
      "[9009 rows x 43 columns]\n"
     ]
    }
   ],
   "source": [
    "\n",
    "# Create a LabelEncoder instance\n",
    "label_encoder = LabelEncoder()\n",
    "\n",
    "# Specify the column names you want to label encode\n",
    "columns_to_encode = ['PAG_NAME', 'PDSTATE']\n",
    "\n",
    "\n",
    "# Apply label encoding to each specified column\n",
    "for column in columns_to_encode:\n",
    "    df[column] = label_encoder.fit_transform(df[column])\n",
    "\n",
    "# Display the DataFrame with label-encoded columns\n",
    "print(df)\n"
   ]
  },
  {
   "cell_type": "code",
   "execution_count": 27,
   "id": "t1ivzd2Uqz3f",
   "metadata": {
    "colab": {
     "base_uri": "https://localhost:8080/"
    },
    "id": "t1ivzd2Uqz3f",
    "outputId": "b6a8aa73-0d9d-40e6-845a-9c7e1eb5d716"
   },
   "outputs": [
    {
     "data": {
      "text/plain": [
       "0        0\n",
       "3        1\n",
       "9        1\n",
       "10       1\n",
       "14       0\n",
       "        ..\n",
       "11948    1\n",
       "11949    1\n",
       "11951    1\n",
       "11956    1\n",
       "11959    1\n",
       "Name: PDSTATE, Length: 9009, dtype: int32"
      ]
     },
     "execution_count": 27,
     "metadata": {},
     "output_type": "execute_result"
    }
   ],
   "source": [
    "df['PDSTATE']"
   ]
  },
  {
   "cell_type": "code",
   "execution_count": 28,
   "id": "-6punCY3HBXI",
   "metadata": {
    "colab": {
     "base_uri": "https://localhost:8080/"
    },
    "id": "-6punCY3HBXI",
    "outputId": "e0fa57b9-cebc-41e9-da22-801e6ac73ea6"
   },
   "outputs": [
    {
     "name": "stdout",
     "output_type": "stream",
     "text": [
      "<class 'pandas.core.frame.DataFrame'>\n",
      "Int64Index: 9009 entries, 0 to 11959\n",
      "Data columns (total 43 columns):\n",
      " #   Column     Non-Null Count  Dtype  \n",
      "---  ------     --------------  -----  \n",
      " 0   PATNO      9009 non-null   int64  \n",
      " 1   PAG_NAME   9009 non-null   int32  \n",
      " 2   PDTRTMNT   9009 non-null   float64\n",
      " 3   PDSTATE    9009 non-null   int32  \n",
      " 4   HRPOSTMED  9009 non-null   float64\n",
      " 5   PDMEDYN    9009 non-null   float64\n",
      " 6   DBSYN      9009 non-null   float64\n",
      " 7   NP3SPCH    9009 non-null   float64\n",
      " 8   NP3FACXP   9009 non-null   float64\n",
      " 9   NP3RIGN    9009 non-null   float64\n",
      " 10  NP3RIGRU   9009 non-null   float64\n",
      " 11  NP3RIGLU   9009 non-null   float64\n",
      " 12  NP3RIGRL   9009 non-null   float64\n",
      " 13  NP3RIGLL   9009 non-null   float64\n",
      " 14  NP3FTAPR   9009 non-null   float64\n",
      " 15  NP3FTAPL   9009 non-null   float64\n",
      " 16  NP3HMOVR   9009 non-null   float64\n",
      " 17  NP3HMOVL   9009 non-null   float64\n",
      " 18  NP3PRSPR   9009 non-null   float64\n",
      " 19  NP3PRSPL   9009 non-null   float64\n",
      " 20  NP3TTAPR   9009 non-null   float64\n",
      " 21  NP3TTAPL   9009 non-null   float64\n",
      " 22  NP3LGAGR   9009 non-null   float64\n",
      " 23  NP3LGAGL   9009 non-null   float64\n",
      " 24  NP3RISNG   9009 non-null   float64\n",
      " 25  NP3GAIT    9009 non-null   float64\n",
      " 26  NP3FRZGT   9009 non-null   float64\n",
      " 27  NP3PSTBL   9009 non-null   float64\n",
      " 28  NP3POSTR   9009 non-null   float64\n",
      " 29  NP3BRADY   9009 non-null   float64\n",
      " 30  NP3PTRMR   9009 non-null   float64\n",
      " 31  NP3PTRML   9009 non-null   float64\n",
      " 32  NP3KTRMR   9009 non-null   float64\n",
      " 33  NP3KTRML   9009 non-null   float64\n",
      " 34  NP3RTARU   9009 non-null   float64\n",
      " 35  NP3RTALU   9009 non-null   float64\n",
      " 36  NP3RTARL   9009 non-null   float64\n",
      " 37  NP3RTALL   9009 non-null   float64\n",
      " 38  NP3RTALJ   9009 non-null   float64\n",
      " 39  NP3RTCON   9009 non-null   float64\n",
      " 40  NP3TOT     9009 non-null   float64\n",
      " 41  DYSKPRES   9009 non-null   float64\n",
      " 42  NHY        9009 non-null   float64\n",
      "dtypes: float64(40), int32(2), int64(1)\n",
      "memory usage: 3.0 MB\n"
     ]
    }
   ],
   "source": [
    "df.info()"
   ]
  },
  {
   "cell_type": "markdown",
   "id": "mSzOaD9Kq8zl",
   "metadata": {
    "id": "mSzOaD9Kq8zl"
   },
   "source": [
    "# **Separating features and label**"
   ]
  },
  {
   "cell_type": "code",
   "execution_count": 29,
   "id": "djole9E_tgfb",
   "metadata": {
    "colab": {
     "base_uri": "https://localhost:8080/"
    },
    "id": "djole9E_tgfb",
    "outputId": "b8955110-7d8b-4ff3-b2bd-e63fa5404bae"
   },
   "outputs": [
    {
     "data": {
      "text/plain": [
       "0        2\n",
       "3        2\n",
       "9        2\n",
       "10       2\n",
       "14       1\n",
       "        ..\n",
       "11948    1\n",
       "11949    2\n",
       "11951    3\n",
       "11956    2\n",
       "11959    1\n",
       "Name: NHY, Length: 9009, dtype: int32"
      ]
     },
     "execution_count": 29,
     "metadata": {},
     "output_type": "execute_result"
    }
   ],
   "source": [
    "# Extract features and labels\n",
    "features = df.drop(columns=['NHY'])  # Features\n",
    "labels = df['NHY']\n",
    "# Convert labels to integers\n",
    "labels = labels.astype(int)\n",
    "labels"
   ]
  },
  {
   "cell_type": "code",
   "execution_count": 30,
   "id": "1x3ruLGb1bA6",
   "metadata": {
    "colab": {
     "base_uri": "https://localhost:8080/",
     "height": 825
    },
    "id": "1x3ruLGb1bA6",
    "outputId": "8eb45b4d-cfb2-459a-c74b-5c8626d615ea"
   },
   "outputs": [
    {
     "data": {
      "image/png": "[encoded data removed]",
      "text/plain": [
       "<Figure size 1800x1296 with 49 Axes>"
      ]
     },
     "metadata": {
      "needs_background": "light"
     },
     "output_type": "display_data"
    }
   ],
   "source": [
    "df.hist(figsize=(25,18))\n",
    "plt.show()\n"
   ]
  },
  {
   "cell_type": "code",
   "execution_count": 31,
   "id": "dV-QHy_72pac",
   "metadata": {
    "colab": {
     "base_uri": "https://localhost:8080/",
     "height": 559
    },
    "id": "dV-QHy_72pac",
    "outputId": "e889b719-4b5c-4b57-af57-c04ca7286198"
   },
   "outputs": [
    {
     "data": {
      "image/png": "[encoded data removed]",
      "text/plain": [
       "<Figure size 432x288 with 1 Axes>"
      ]
     },
     "metadata": {
      "needs_background": "light"
     },
     "output_type": "display_data"
    }
   ],
   "source": [
    "df.corr()['NHY'][:-1].sort_values().plot(kind='bar')\n",
    "plt.show()\n"
   ]
  },
  {
   "cell_type": "code",
   "execution_count": 32,
   "id": "9A4ELvs-5xEk",
   "metadata": {
    "id": "9A4ELvs-5xEk"
   },
   "outputs": [],
   "source": [
    "df.to_csv(\"newdataset.csv\")"
   ]
  },
  {
   "cell_type": "markdown",
   "id": "w5TCkdXirVX_",
   "metadata": {
    "id": "w5TCkdXirVX_"
   },
   "source": [
    "# **Spliting into Training and Testing Data**"
   ]
  },
  {
   "cell_type": "code",
   "execution_count": 33,
   "id": "V1aGnP4Mrfne",
   "metadata": {
    "id": "V1aGnP4Mrfne"
   },
   "outputs": [],
   "source": [
    "X_train, X_test, y_train, y_test = train_test_split(features, labels, test_size=0.2, random_state=42)\n"
   ]
  },
  {
   "cell_type": "code",
   "execution_count": 34,
   "id": "oQcIwDF7r0s6",
   "metadata": {
    "colab": {
     "base_uri": "https://localhost:8080/"
    },
    "id": "oQcIwDF7r0s6",
    "outputId": "6c03beed-b45d-49e9-d9df-bac41541001c"
   },
   "outputs": [
    {
     "name": "stdout",
     "output_type": "stream",
     "text": [
      "(7207, 42) (1802, 42)\n",
      "(7207,) (1802,)\n"
     ]
    }
   ],
   "source": [
    "print(X_train.shape, X_test.shape)\n",
    "print(y_train.shape, y_test.shape)"
   ]
  },
  {
   "cell_type": "code",
   "execution_count": 35,
   "id": "Yy3j17h92fEQ",
   "metadata": {
    "id": "Yy3j17h92fEQ"
   },
   "outputs": [],
   "source": [
    "# Create an SVM classifier\n",
    "svm_classifier = SVC(kernel='linear')\n"
   ]
  },
  {
   "cell_type": "markdown",
   "id": "b988a7c7",
   "metadata": {
    "colab": {
     "base_uri": "https://localhost:8080/",
     "height": 74
    },
    "id": "9mTPtKDgxLaj",
    "outputId": "baee86de-f9e3-460a-d6f1-e4e8236df840"
   },
   "source": [
    "# Train the SVM classifier\n",
    "svm_classifier.fit(X_train, y_train)"
   ]
  },
  {
   "cell_type": "markdown",
   "id": "43649768",
   "metadata": {
    "colab": {
     "base_uri": "https://localhost:8080/"
    },
    "id": "YqBzEhWixPDt",
    "outputId": "76b3543e-621c-4d05-b769-846d8be62f0e"
   },
   "source": [
    "#model evaluation on training data\n",
    "training_prediction = svm_classifier.predict(X_train)\n",
    "\n",
    "training_accuracy = accuracy_score(y_train, training_prediction)\n",
    "print('THE ACCURACCY ON TRAINING DATA IS :', training_accuracy)"
   ]
  },
  {
   "cell_type": "markdown",
   "id": "80427388",
   "metadata": {
    "colab": {
     "base_uri": "https://localhost:8080/"
    },
    "id": "ICW0SEY3xf1b",
    "outputId": "2eb611ab-b040-4c89-ab25-4c82ae93a2dc"
   },
   "source": [
    "#model evaluation on testing data\n",
    "testing_prediction =svm_classifier.predict(X_test)\n",
    "\n",
    "testing_accuracy = accuracy_score(y_test, testing_prediction)\n",
    "print('THE ACCURACCY ON TESTING DATA IS :', testing_accuracy)"
   ]
  },
  {
   "cell_type": "code",
   "execution_count": null,
   "id": "a64cf071",
   "metadata": {},
   "outputs": [],
   "source": []
  }
 ],
 "metadata": {
  "colab": {
   "provenance": []
  },
  "kernelspec": {
   "display_name": "Python 3",
   "language": "python",
   "name": "python3"
  },
  "language_info": {
   "codemirror_mode": {
    "name": "ipython",
    "version": 3
   },
   "file_extension": ".py",
   "mimetype": "text/x-python",
   "name": "python",
   "nbconvert_exporter": "python",
   "pygments_lexer": "ipython3",
   "version": "3.6.13"
  }
 },
 "nbformat": 4,
 "nbformat_minor": 5
}
